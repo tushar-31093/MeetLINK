{
 "cells": [
  {
   "cell_type": "code",
   "execution_count": 1,
   "metadata": {},
   "outputs": [],
   "source": [
    "import pandas as pd\n",
    "import numpy as np\n",
    "import math\n",
    "import sys\n",
    "import random\n",
    "from pivottablejs import pivot_ui\n",
    "import sklearn\n",
    "from random import sample\n",
    "from sklearn.neighbors import NearestNeighbors\n",
    "import json\n",
    "from scipy import stats"
   ]
  },
  {
   "cell_type": "code",
   "execution_count": 2,
   "metadata": {},
   "outputs": [],
   "source": [
    "# Pearson Score\n",
    "# ------------------------------------------------------------------------------------------------------------------\n",
    "def pearson_calc(numbers_x, numbers_y):\n",
    "    mean_x = 0.000\n",
    "    mean_y = 0.000\n",
    "    if(len(numbers_y)==0 and len(numbers_x)==0):\n",
    "        mean_x = sum(numbers_x)/0.001\n",
    "        mean_y = sum(numbers_y)/0.001\n",
    "    elif(len(numbers_x)==0):\n",
    "        mean_x = sum(numbers_x)/0.001\n",
    "        mean_y = sum(numbers_y)/len(numbers_y)\n",
    "    elif(len(numbers_y)==0):\n",
    "        mean_x = sum(numbers_x)/len(numbers_x)\n",
    "        mean_y = sum(numbers_y)/0.001\n",
    "    else:\n",
    "        mean_x = sum(numbers_x)/len(numbers_x)\n",
    "        mean_y = sum(numbers_y)/len(numbers_y)\n",
    "    \n",
    "    subtracted_mean_x = [i - mean_x for i in numbers_x]\n",
    "    subtracted_mean_y = [i - mean_y for i in numbers_y]\n",
    "\n",
    "    x_times_y = [a * b for a, b in list(zip(subtracted_mean_x, subtracted_mean_y))]\n",
    "\n",
    "    x_squared = [i * i for i in numbers_x]\n",
    "    y_squared = [i * i for i in numbers_y]\n",
    "    \n",
    "    N = sum(x_times_y)\n",
    "    D = math.sqrt(sum(x_squared) * sum(y_squared))\n",
    "    if (D !=0):\n",
    "        return N/D\n",
    "    else:\n",
    "        return N/0.001"
   ]
  },
  {
   "cell_type": "code",
   "execution_count": 3,
   "metadata": {},
   "outputs": [],
   "source": [
    "def match_cal(user1,user2):\n",
    "    match = 0\n",
    "    df_u1 = user1.values.tolist()\n",
    "    df_u2 = user2.values.tolist()\n",
    "    df_u1 =  [y for x in df_u1 for y in x] \n",
    "    df_u2 =  [y for x in df_u2 for y in x] \n",
    "    for i in range(0,len(df_u2)):\n",
    "        if(df_u2[i]==1 and df_u1[i]==1):\n",
    "            match=match+1\n",
    "        else:\n",
    "            match=match+0.001\n",
    "#     print('match',match)\n",
    "    pearson_correlation_val = pearson_calc(df_u1,df_u2)\n",
    "    return match,pearson_correlation_val"
   ]
  },
  {
   "cell_type": "code",
   "execution_count": 4,
   "metadata": {},
   "outputs": [],
   "source": [
    "def pearson_score(user1,user2):\n",
    "    '''\n",
    "    user1 & user2 : user ids of two users between which similarity score is to be calculated.\n",
    "    '''\n",
    "    # A list of categories joined by both the users.\n",
    "    both_match_count, score = match_cal(user1,user2)\n",
    "    \n",
    "#     print('both matches :',both_match_count)\n",
    "    # Returning '0' if no common values.\n",
    "    if both_match_count == 0 :\n",
    "        return 0\n",
    "    return score"
   ]
  },
  {
   "cell_type": "code",
   "execution_count": 5,
   "metadata": {},
   "outputs": [],
   "source": [
    "def find_k_neighbours(df,k):\n",
    "    order = np.argsort(df.values, axis=1)[:, :k]\n",
    "    df = df.apply(lambda x: pd.Series(x.sort_values(ascending=False).iloc[:k].index, index=['top{}'.format(i) for i in range(1, k+1)]), axis=1)\n",
    "    return df"
   ]
  },
  {
   "cell_type": "code",
   "execution_count": 6,
   "metadata": {},
   "outputs": [],
   "source": [
    "def weighted_average_over_scores(score,weights):\n",
    "    form_eq = []\n",
    "    for i in range(0,len(score)):\n",
    "        val = score[i]**weights[i]\n",
    "        form_eq.append(val)\n",
    "    product_val = np.prod(form_eq)\n",
    "    \n",
    "    sum_weights = 0\n",
    "    for i in range(0,len(weights)):\n",
    "        sum_weights = sum_weights + weights[i]\n",
    "    \n",
    "    sum_weights = 1 / (sum_weights)\n",
    "    result_val = product_val**sum_weights\n",
    "    result_val = stats.gmean(result_val)\n",
    "    \n",
    "    \n",
    "    if(math.isnan(result_val)):\n",
    "        print(\"Something is wrong!\")\n",
    "        return 0.001\n",
    "    elif(int(result_val) ==0):\n",
    "        print(\"Something is wrong! - 2\")\n",
    "        return 0.001\n",
    "    else:\n",
    "        print(\"OK!\")\n",
    "        return result_val"
   ]
  },
  {
   "cell_type": "code",
   "execution_count": 7,
   "metadata": {},
   "outputs": [],
   "source": [
    "def geom_mean(scores,weights):    \n",
    "    a = []\n",
    "    for i in range(0,len(scores)):\n",
    "        val = scores[i]*weights[i]\n",
    "        a.append(val)\n",
    "    a = np.array(a)\n",
    "    pos = a[a > 0]\n",
    "    pos_mean = stats.gmean(pos)\n",
    "    pos_prop = pos.size / a.size\n",
    "    \n",
    "    neg = a[a < 0]\n",
    "    neg = np.abs(neg)\n",
    "    neg_mean = stats.gmean(neg) if neg.size > 0 else 0\n",
    "    neg_prop = neg.size / a.size\n",
    "    \n",
    "    return (pos_mean * pos_prop) - (neg_mean * neg_prop)"
   ]
  },
  {
   "cell_type": "code",
   "execution_count": 8,
   "metadata": {},
   "outputs": [],
   "source": [
    "def har_mean(scores,weights):\n",
    "    a = []\n",
    "    for i in range(0,len(scores)):\n",
    "        val = scores[i]*weights[i]\n",
    "        a.append(val)\n",
    "    a = np.array(a)\n",
    "    return (len(a) / sum(1 / n for n in a))"
   ]
  },
  {
   "cell_type": "code",
   "execution_count": 9,
   "metadata": {},
   "outputs": [],
   "source": [
    "def gbellmf(x):\n",
    "    return 1.00 / (1.00 + np.abs((x - 0.001) / 0.001) ** (2 * 0.001))"
   ]
  },
  {
   "cell_type": "code",
   "execution_count": 10,
   "metadata": {},
   "outputs": [],
   "source": [
    "# ------------------------------------------------------------------------------------------------------------------"
   ]
  },
  {
   "cell_type": "code",
   "execution_count": 11,
   "metadata": {},
   "outputs": [
    {
     "name": "stderr",
     "output_type": "stream",
     "text": [
      "C:\\Users\\tusha\\Anaconda3\\lib\\site-packages\\numpy\\lib\\arraysetops.py:569: FutureWarning: elementwise comparison failed; returning scalar instead, but in the future will perform elementwise comparison\n",
      "  mask |= (ar1 == a)\n"
     ]
    },
    {
     "data": {
      "text/html": [
       "<div>\n",
       "<style scoped>\n",
       "    .dataframe tbody tr th:only-of-type {\n",
       "        vertical-align: middle;\n",
       "    }\n",
       "\n",
       "    .dataframe tbody tr th {\n",
       "        vertical-align: top;\n",
       "    }\n",
       "\n",
       "    .dataframe thead th {\n",
       "        text-align: right;\n",
       "    }\n",
       "</style>\n",
       "<table border=\"1\" class=\"dataframe\">\n",
       "  <thead>\n",
       "    <tr style=\"text-align: right;\">\n",
       "      <th></th>\n",
       "      <th>member_id</th>\n",
       "      <th>category_id</th>\n",
       "      <th>group_id</th>\n",
       "      <th>rating</th>\n",
       "    </tr>\n",
       "  </thead>\n",
       "  <tbody>\n",
       "    <tr>\n",
       "      <th>0</th>\n",
       "      <td>3</td>\n",
       "      <td>2</td>\n",
       "      <td>490552</td>\n",
       "      <td>4.67</td>\n",
       "    </tr>\n",
       "    <tr>\n",
       "      <th>1</th>\n",
       "      <td>210</td>\n",
       "      <td>2</td>\n",
       "      <td>490552</td>\n",
       "      <td>4.67</td>\n",
       "    </tr>\n",
       "    <tr>\n",
       "      <th>2</th>\n",
       "      <td>357518</td>\n",
       "      <td>2</td>\n",
       "      <td>490552</td>\n",
       "      <td>4.67</td>\n",
       "    </tr>\n",
       "    <tr>\n",
       "      <th>3</th>\n",
       "      <td>511008</td>\n",
       "      <td>2</td>\n",
       "      <td>490552</td>\n",
       "      <td>4.67</td>\n",
       "    </tr>\n",
       "    <tr>\n",
       "      <th>4</th>\n",
       "      <td>915553</td>\n",
       "      <td>2</td>\n",
       "      <td>490552</td>\n",
       "      <td>4.67</td>\n",
       "    </tr>\n",
       "  </tbody>\n",
       "</table>\n",
       "</div>"
      ],
      "text/plain": [
       "   member_id  category_id  group_id  rating\n",
       "0          3            2    490552    4.67\n",
       "1        210            2    490552    4.67\n",
       "2     357518            2    490552    4.67\n",
       "3     511008            2    490552    4.67\n",
       "4     915553            2    490552    4.67"
      ]
     },
     "execution_count": 11,
     "metadata": {},
     "output_type": "execute_result"
    }
   ],
   "source": [
    "data_users = pd.read_csv('user_cat.csv',index_col=0)\n",
    "data_users.head()"
   ]
  },
  {
   "cell_type": "code",
   "execution_count": 12,
   "metadata": {},
   "outputs": [
    {
     "data": {
      "text/plain": [
       "12511788"
      ]
     },
     "execution_count": 12,
     "metadata": {},
     "output_type": "execute_result"
    }
   ],
   "source": [
    "data_users.size"
   ]
  },
  {
   "cell_type": "code",
   "execution_count": 13,
   "metadata": {},
   "outputs": [
    {
     "data": {
      "text/plain": [
       "(3127947, 4)"
      ]
     },
     "execution_count": 13,
     "metadata": {},
     "output_type": "execute_result"
    }
   ],
   "source": [
    "data_users.shape"
   ]
  },
  {
   "cell_type": "code",
   "execution_count": 14,
   "metadata": {},
   "outputs": [
    {
     "data": {
      "text/html": [
       "<div>\n",
       "<style scoped>\n",
       "    .dataframe tbody tr th:only-of-type {\n",
       "        vertical-align: middle;\n",
       "    }\n",
       "\n",
       "    .dataframe tbody tr th {\n",
       "        vertical-align: top;\n",
       "    }\n",
       "\n",
       "    .dataframe thead th {\n",
       "        text-align: right;\n",
       "    }\n",
       "</style>\n",
       "<table border=\"1\" class=\"dataframe\">\n",
       "  <thead>\n",
       "    <tr style=\"text-align: right;\">\n",
       "      <th></th>\n",
       "      <th>member_id</th>\n",
       "      <th>category_id</th>\n",
       "      <th>group_id</th>\n",
       "      <th>rating</th>\n",
       "    </tr>\n",
       "  </thead>\n",
       "  <tbody>\n",
       "    <tr>\n",
       "      <th>1373571</th>\n",
       "      <td>40306002</td>\n",
       "      <td>34</td>\n",
       "      <td>1642835</td>\n",
       "      <td>4.80</td>\n",
       "    </tr>\n",
       "    <tr>\n",
       "      <th>1434694</th>\n",
       "      <td>178513572</td>\n",
       "      <td>30</td>\n",
       "      <td>1684051</td>\n",
       "      <td>4.22</td>\n",
       "    </tr>\n",
       "    <tr>\n",
       "      <th>259043</th>\n",
       "      <td>40827052</td>\n",
       "      <td>16</td>\n",
       "      <td>3324842</td>\n",
       "      <td>4.75</td>\n",
       "    </tr>\n",
       "    <tr>\n",
       "      <th>1599173</th>\n",
       "      <td>77440242</td>\n",
       "      <td>2</td>\n",
       "      <td>1645494</td>\n",
       "      <td>4.63</td>\n",
       "    </tr>\n",
       "    <tr>\n",
       "      <th>516392</th>\n",
       "      <td>189020506</td>\n",
       "      <td>34</td>\n",
       "      <td>1561620</td>\n",
       "      <td>4.75</td>\n",
       "    </tr>\n",
       "  </tbody>\n",
       "</table>\n",
       "</div>"
      ],
      "text/plain": [
       "         member_id  category_id  group_id  rating\n",
       "1373571   40306002           34   1642835    4.80\n",
       "1434694  178513572           30   1684051    4.22\n",
       "259043    40827052           16   3324842    4.75\n",
       "1599173   77440242            2   1645494    4.63\n",
       "516392   189020506           34   1561620    4.75"
      ]
     },
     "execution_count": 14,
     "metadata": {},
     "output_type": "execute_result"
    }
   ],
   "source": [
    "tester = data_users.sample(n=1000).copy()\n",
    "tester.head()"
   ]
  },
  {
   "cell_type": "code",
   "execution_count": 15,
   "metadata": {},
   "outputs": [
    {
     "data": {
      "text/plain": [
       "(1000, 4)"
      ]
     },
     "execution_count": 15,
     "metadata": {},
     "output_type": "execute_result"
    }
   ],
   "source": [
    "tester.shape"
   ]
  },
  {
   "cell_type": "code",
   "execution_count": 16,
   "metadata": {},
   "outputs": [],
   "source": [
    "# Creating a pivot table based on above random subset of data"
   ]
  },
  {
   "cell_type": "code",
   "execution_count": 17,
   "metadata": {},
   "outputs": [],
   "source": [
    "tester['values']=1"
   ]
  },
  {
   "cell_type": "code",
   "execution_count": 18,
   "metadata": {},
   "outputs": [
    {
     "data": {
      "text/html": [
       "<div>\n",
       "<style scoped>\n",
       "    .dataframe tbody tr th:only-of-type {\n",
       "        vertical-align: middle;\n",
       "    }\n",
       "\n",
       "    .dataframe tbody tr th {\n",
       "        vertical-align: top;\n",
       "    }\n",
       "\n",
       "    .dataframe thead th {\n",
       "        text-align: right;\n",
       "    }\n",
       "</style>\n",
       "<table border=\"1\" class=\"dataframe\">\n",
       "  <thead>\n",
       "    <tr style=\"text-align: right;\">\n",
       "      <th></th>\n",
       "      <th>member_id</th>\n",
       "      <th>category_id</th>\n",
       "      <th>group_id</th>\n",
       "      <th>rating</th>\n",
       "      <th>values</th>\n",
       "    </tr>\n",
       "  </thead>\n",
       "  <tbody>\n",
       "    <tr>\n",
       "      <th>1373571</th>\n",
       "      <td>40306002</td>\n",
       "      <td>34</td>\n",
       "      <td>1642835</td>\n",
       "      <td>4.80</td>\n",
       "      <td>1</td>\n",
       "    </tr>\n",
       "    <tr>\n",
       "      <th>1434694</th>\n",
       "      <td>178513572</td>\n",
       "      <td>30</td>\n",
       "      <td>1684051</td>\n",
       "      <td>4.22</td>\n",
       "      <td>1</td>\n",
       "    </tr>\n",
       "    <tr>\n",
       "      <th>259043</th>\n",
       "      <td>40827052</td>\n",
       "      <td>16</td>\n",
       "      <td>3324842</td>\n",
       "      <td>4.75</td>\n",
       "      <td>1</td>\n",
       "    </tr>\n",
       "    <tr>\n",
       "      <th>1599173</th>\n",
       "      <td>77440242</td>\n",
       "      <td>2</td>\n",
       "      <td>1645494</td>\n",
       "      <td>4.63</td>\n",
       "      <td>1</td>\n",
       "    </tr>\n",
       "    <tr>\n",
       "      <th>516392</th>\n",
       "      <td>189020506</td>\n",
       "      <td>34</td>\n",
       "      <td>1561620</td>\n",
       "      <td>4.75</td>\n",
       "      <td>1</td>\n",
       "    </tr>\n",
       "  </tbody>\n",
       "</table>\n",
       "</div>"
      ],
      "text/plain": [
       "         member_id  category_id  group_id  rating  values\n",
       "1373571   40306002           34   1642835    4.80       1\n",
       "1434694  178513572           30   1684051    4.22       1\n",
       "259043    40827052           16   3324842    4.75       1\n",
       "1599173   77440242            2   1645494    4.63       1\n",
       "516392   189020506           34   1561620    4.75       1"
      ]
     },
     "execution_count": 18,
     "metadata": {},
     "output_type": "execute_result"
    }
   ],
   "source": [
    "# Checking if the dataset for values\n",
    "tester.head()"
   ]
  },
  {
   "cell_type": "code",
   "execution_count": 19,
   "metadata": {},
   "outputs": [
    {
     "data": {
      "text/html": [
       "<div>\n",
       "<style scoped>\n",
       "    .dataframe tbody tr th:only-of-type {\n",
       "        vertical-align: middle;\n",
       "    }\n",
       "\n",
       "    .dataframe tbody tr th {\n",
       "        vertical-align: top;\n",
       "    }\n",
       "\n",
       "    .dataframe thead th {\n",
       "        text-align: right;\n",
       "    }\n",
       "</style>\n",
       "<table border=\"1\" class=\"dataframe\">\n",
       "  <thead>\n",
       "    <tr style=\"text-align: right;\">\n",
       "      <th>category_id</th>\n",
       "      <th>1</th>\n",
       "      <th>2</th>\n",
       "      <th>3</th>\n",
       "      <th>4</th>\n",
       "      <th>5</th>\n",
       "      <th>6</th>\n",
       "      <th>8</th>\n",
       "      <th>9</th>\n",
       "      <th>10</th>\n",
       "      <th>11</th>\n",
       "      <th>...</th>\n",
       "      <th>26</th>\n",
       "      <th>27</th>\n",
       "      <th>28</th>\n",
       "      <th>29</th>\n",
       "      <th>30</th>\n",
       "      <th>31</th>\n",
       "      <th>32</th>\n",
       "      <th>33</th>\n",
       "      <th>34</th>\n",
       "      <th>36</th>\n",
       "    </tr>\n",
       "    <tr>\n",
       "      <th>member_id</th>\n",
       "      <th></th>\n",
       "      <th></th>\n",
       "      <th></th>\n",
       "      <th></th>\n",
       "      <th></th>\n",
       "      <th></th>\n",
       "      <th></th>\n",
       "      <th></th>\n",
       "      <th></th>\n",
       "      <th></th>\n",
       "      <th></th>\n",
       "      <th></th>\n",
       "      <th></th>\n",
       "      <th></th>\n",
       "      <th></th>\n",
       "      <th></th>\n",
       "      <th></th>\n",
       "      <th></th>\n",
       "      <th></th>\n",
       "      <th></th>\n",
       "      <th></th>\n",
       "    </tr>\n",
       "  </thead>\n",
       "  <tbody>\n",
       "    <tr>\n",
       "      <th>207458</th>\n",
       "      <td>0.0</td>\n",
       "      <td>0.0</td>\n",
       "      <td>0.0</td>\n",
       "      <td>0.0</td>\n",
       "      <td>1.0</td>\n",
       "      <td>0.0</td>\n",
       "      <td>0.0</td>\n",
       "      <td>0.0</td>\n",
       "      <td>0.0</td>\n",
       "      <td>0.0</td>\n",
       "      <td>...</td>\n",
       "      <td>0.0</td>\n",
       "      <td>0.0</td>\n",
       "      <td>0.0</td>\n",
       "      <td>0.0</td>\n",
       "      <td>0.0</td>\n",
       "      <td>0.0</td>\n",
       "      <td>0.0</td>\n",
       "      <td>0.0</td>\n",
       "      <td>0.0</td>\n",
       "      <td>0.0</td>\n",
       "    </tr>\n",
       "    <tr>\n",
       "      <th>301575</th>\n",
       "      <td>0.0</td>\n",
       "      <td>0.0</td>\n",
       "      <td>0.0</td>\n",
       "      <td>0.0</td>\n",
       "      <td>0.0</td>\n",
       "      <td>0.0</td>\n",
       "      <td>0.0</td>\n",
       "      <td>0.0</td>\n",
       "      <td>0.0</td>\n",
       "      <td>0.0</td>\n",
       "      <td>...</td>\n",
       "      <td>0.0</td>\n",
       "      <td>0.0</td>\n",
       "      <td>0.0</td>\n",
       "      <td>0.0</td>\n",
       "      <td>0.0</td>\n",
       "      <td>0.0</td>\n",
       "      <td>0.0</td>\n",
       "      <td>0.0</td>\n",
       "      <td>1.0</td>\n",
       "      <td>0.0</td>\n",
       "    </tr>\n",
       "    <tr>\n",
       "      <th>340894</th>\n",
       "      <td>0.0</td>\n",
       "      <td>0.0</td>\n",
       "      <td>0.0</td>\n",
       "      <td>0.0</td>\n",
       "      <td>0.0</td>\n",
       "      <td>0.0</td>\n",
       "      <td>0.0</td>\n",
       "      <td>0.0</td>\n",
       "      <td>0.0</td>\n",
       "      <td>0.0</td>\n",
       "      <td>...</td>\n",
       "      <td>0.0</td>\n",
       "      <td>0.0</td>\n",
       "      <td>0.0</td>\n",
       "      <td>0.0</td>\n",
       "      <td>0.0</td>\n",
       "      <td>0.0</td>\n",
       "      <td>0.0</td>\n",
       "      <td>0.0</td>\n",
       "      <td>1.0</td>\n",
       "      <td>0.0</td>\n",
       "    </tr>\n",
       "    <tr>\n",
       "      <th>920153</th>\n",
       "      <td>0.0</td>\n",
       "      <td>0.0</td>\n",
       "      <td>0.0</td>\n",
       "      <td>0.0</td>\n",
       "      <td>0.0</td>\n",
       "      <td>0.0</td>\n",
       "      <td>0.0</td>\n",
       "      <td>0.0</td>\n",
       "      <td>0.0</td>\n",
       "      <td>0.0</td>\n",
       "      <td>...</td>\n",
       "      <td>0.0</td>\n",
       "      <td>0.0</td>\n",
       "      <td>0.0</td>\n",
       "      <td>0.0</td>\n",
       "      <td>0.0</td>\n",
       "      <td>0.0</td>\n",
       "      <td>0.0</td>\n",
       "      <td>0.0</td>\n",
       "      <td>1.0</td>\n",
       "      <td>0.0</td>\n",
       "    </tr>\n",
       "    <tr>\n",
       "      <th>1004248</th>\n",
       "      <td>0.0</td>\n",
       "      <td>0.0</td>\n",
       "      <td>0.0</td>\n",
       "      <td>0.0</td>\n",
       "      <td>0.0</td>\n",
       "      <td>0.0</td>\n",
       "      <td>0.0</td>\n",
       "      <td>0.0</td>\n",
       "      <td>0.0</td>\n",
       "      <td>0.0</td>\n",
       "      <td>...</td>\n",
       "      <td>0.0</td>\n",
       "      <td>0.0</td>\n",
       "      <td>0.0</td>\n",
       "      <td>0.0</td>\n",
       "      <td>0.0</td>\n",
       "      <td>0.0</td>\n",
       "      <td>0.0</td>\n",
       "      <td>0.0</td>\n",
       "      <td>0.0</td>\n",
       "      <td>0.0</td>\n",
       "    </tr>\n",
       "  </tbody>\n",
       "</table>\n",
       "<p>5 rows × 32 columns</p>\n",
       "</div>"
      ],
      "text/plain": [
       "category_id   1    2    3    4    5    6    8    9    10   11  ...   26   27  \\\n",
       "member_id                                                      ...             \n",
       "207458       0.0  0.0  0.0  0.0  1.0  0.0  0.0  0.0  0.0  0.0  ...  0.0  0.0   \n",
       "301575       0.0  0.0  0.0  0.0  0.0  0.0  0.0  0.0  0.0  0.0  ...  0.0  0.0   \n",
       "340894       0.0  0.0  0.0  0.0  0.0  0.0  0.0  0.0  0.0  0.0  ...  0.0  0.0   \n",
       "920153       0.0  0.0  0.0  0.0  0.0  0.0  0.0  0.0  0.0  0.0  ...  0.0  0.0   \n",
       "1004248      0.0  0.0  0.0  0.0  0.0  0.0  0.0  0.0  0.0  0.0  ...  0.0  0.0   \n",
       "\n",
       "category_id   28   29   30   31   32   33   34   36  \n",
       "member_id                                            \n",
       "207458       0.0  0.0  0.0  0.0  0.0  0.0  0.0  0.0  \n",
       "301575       0.0  0.0  0.0  0.0  0.0  0.0  1.0  0.0  \n",
       "340894       0.0  0.0  0.0  0.0  0.0  0.0  1.0  0.0  \n",
       "920153       0.0  0.0  0.0  0.0  0.0  0.0  1.0  0.0  \n",
       "1004248      0.0  0.0  0.0  0.0  0.0  0.0  0.0  0.0  \n",
       "\n",
       "[5 rows x 32 columns]"
      ]
     },
     "execution_count": 19,
     "metadata": {},
     "output_type": "execute_result"
    }
   ],
   "source": [
    "df_pivot = tester.pivot_table(index=['member_id'], columns=['category_id'],values='values').fillna(0)\n",
    "df_pivot.head()"
   ]
  },
  {
   "cell_type": "code",
   "execution_count": 20,
   "metadata": {},
   "outputs": [],
   "source": [
    "# pivot_ui(df_pivot,rows=['member_id'], cols=['category_id'],outfile_path=\"./data_json/members_category_pivot.html\")"
   ]
  },
  {
   "cell_type": "code",
   "execution_count": 21,
   "metadata": {},
   "outputs": [
    {
     "data": {
      "text/plain": [
       "(997, 32)"
      ]
     },
     "execution_count": 21,
     "metadata": {},
     "output_type": "execute_result"
    }
   ],
   "source": [
    "# Shape of the pivot table\n",
    "df_pivot.shape"
   ]
  },
  {
   "cell_type": "code",
   "execution_count": 22,
   "metadata": {},
   "outputs": [],
   "source": [
    "score_per_user_match = []\n",
    "member_vals = []\n",
    "index_list = []\n",
    "for index,row in df_pivot.iterrows():\n",
    "    index_list.append(index)"
   ]
  },
  {
   "cell_type": "code",
   "execution_count": 23,
   "metadata": {},
   "outputs": [
    {
     "name": "stdout",
     "output_type": "stream",
     "text": [
      "997\n"
     ]
    }
   ],
   "source": [
    "# Displaying all the members in the above pivot table\n",
    "print(len(index_list))"
   ]
  },
  {
   "cell_type": "code",
   "execution_count": 24,
   "metadata": {},
   "outputs": [],
   "source": [
    "scores = []\n",
    "members1 = []\n",
    "members2 = []\n",
    "result = []\n",
    "for i in range(0,len(index_list)):\n",
    "#     print('user 1 --',user1)\n",
    "    members1.append(index_list[i])\n",
    "    user1 = df_pivot.iloc[i:i+1]\n",
    "    for j in range(0,len(index_list)):\n",
    "        user2 = df_pivot.iloc[j:j+1]\n",
    "#         print('user 2 --',user2)\n",
    "        score = pearson_score(user1,user2)\n",
    "        scores.append(score)\n",
    "        members2.append(index_list[j])\n",
    "        list_add = []\n",
    "        list_add.append(index_list[i])\n",
    "        list_add.append(index_list[j])\n",
    "        list_add.append(score)\n",
    "        result.append(list_add)"
   ]
  },
  {
   "cell_type": "code",
   "execution_count": 25,
   "metadata": {},
   "outputs": [
    {
     "data": {
      "text/html": [
       "<div>\n",
       "<style scoped>\n",
       "    .dataframe tbody tr th:only-of-type {\n",
       "        vertical-align: middle;\n",
       "    }\n",
       "\n",
       "    .dataframe tbody tr th {\n",
       "        vertical-align: top;\n",
       "    }\n",
       "\n",
       "    .dataframe thead th {\n",
       "        text-align: right;\n",
       "    }\n",
       "</style>\n",
       "<table border=\"1\" class=\"dataframe\">\n",
       "  <thead>\n",
       "    <tr style=\"text-align: right;\">\n",
       "      <th></th>\n",
       "      <th>users_A</th>\n",
       "      <th>users_B</th>\n",
       "      <th>scores</th>\n",
       "    </tr>\n",
       "  </thead>\n",
       "  <tbody>\n",
       "    <tr>\n",
       "      <th>0</th>\n",
       "      <td>207458</td>\n",
       "      <td>207458</td>\n",
       "      <td>0.96875</td>\n",
       "    </tr>\n",
       "    <tr>\n",
       "      <th>1</th>\n",
       "      <td>207458</td>\n",
       "      <td>301575</td>\n",
       "      <td>-0.03125</td>\n",
       "    </tr>\n",
       "    <tr>\n",
       "      <th>2</th>\n",
       "      <td>207458</td>\n",
       "      <td>340894</td>\n",
       "      <td>-0.03125</td>\n",
       "    </tr>\n",
       "    <tr>\n",
       "      <th>3</th>\n",
       "      <td>207458</td>\n",
       "      <td>920153</td>\n",
       "      <td>-0.03125</td>\n",
       "    </tr>\n",
       "    <tr>\n",
       "      <th>4</th>\n",
       "      <td>207458</td>\n",
       "      <td>1004248</td>\n",
       "      <td>-0.03125</td>\n",
       "    </tr>\n",
       "  </tbody>\n",
       "</table>\n",
       "</div>"
      ],
      "text/plain": [
       "   users_A  users_B   scores\n",
       "0   207458   207458  0.96875\n",
       "1   207458   301575 -0.03125\n",
       "2   207458   340894 -0.03125\n",
       "3   207458   920153 -0.03125\n",
       "4   207458  1004248 -0.03125"
      ]
     },
     "execution_count": 25,
     "metadata": {},
     "output_type": "execute_result"
    }
   ],
   "source": [
    "checking = pd.DataFrame(result, columns = ['users_A', 'users_B','scores']) \n",
    "checking.head()"
   ]
  },
  {
   "cell_type": "code",
   "execution_count": 26,
   "metadata": {},
   "outputs": [
    {
     "data": {
      "text/html": [
       "<div>\n",
       "<style scoped>\n",
       "    .dataframe tbody tr th:only-of-type {\n",
       "        vertical-align: middle;\n",
       "    }\n",
       "\n",
       "    .dataframe tbody tr th {\n",
       "        vertical-align: top;\n",
       "    }\n",
       "\n",
       "    .dataframe thead th {\n",
       "        text-align: right;\n",
       "    }\n",
       "</style>\n",
       "<table border=\"1\" class=\"dataframe\">\n",
       "  <thead>\n",
       "    <tr style=\"text-align: right;\">\n",
       "      <th>users_B</th>\n",
       "      <th>207458</th>\n",
       "      <th>301575</th>\n",
       "      <th>340894</th>\n",
       "      <th>920153</th>\n",
       "      <th>1004248</th>\n",
       "      <th>1237529</th>\n",
       "      <th>1811156</th>\n",
       "      <th>1883022</th>\n",
       "      <th>2005305</th>\n",
       "      <th>2378358</th>\n",
       "      <th>...</th>\n",
       "      <th>239200740</th>\n",
       "      <th>239284494</th>\n",
       "      <th>239515342</th>\n",
       "      <th>239540866</th>\n",
       "      <th>239655255</th>\n",
       "      <th>239665444</th>\n",
       "      <th>239774336</th>\n",
       "      <th>240527919</th>\n",
       "      <th>240792702</th>\n",
       "      <th>240794539</th>\n",
       "    </tr>\n",
       "    <tr>\n",
       "      <th>users_A</th>\n",
       "      <th></th>\n",
       "      <th></th>\n",
       "      <th></th>\n",
       "      <th></th>\n",
       "      <th></th>\n",
       "      <th></th>\n",
       "      <th></th>\n",
       "      <th></th>\n",
       "      <th></th>\n",
       "      <th></th>\n",
       "      <th></th>\n",
       "      <th></th>\n",
       "      <th></th>\n",
       "      <th></th>\n",
       "      <th></th>\n",
       "      <th></th>\n",
       "      <th></th>\n",
       "      <th></th>\n",
       "      <th></th>\n",
       "      <th></th>\n",
       "      <th></th>\n",
       "    </tr>\n",
       "  </thead>\n",
       "  <tbody>\n",
       "    <tr>\n",
       "      <th>207458</th>\n",
       "      <td>0.96875</td>\n",
       "      <td>-0.03125</td>\n",
       "      <td>-0.03125</td>\n",
       "      <td>-0.03125</td>\n",
       "      <td>-0.03125</td>\n",
       "      <td>-0.03125</td>\n",
       "      <td>-0.03125</td>\n",
       "      <td>-0.03125</td>\n",
       "      <td>-0.03125</td>\n",
       "      <td>-0.03125</td>\n",
       "      <td>...</td>\n",
       "      <td>-0.03125</td>\n",
       "      <td>-0.03125</td>\n",
       "      <td>-0.03125</td>\n",
       "      <td>-0.03125</td>\n",
       "      <td>-0.03125</td>\n",
       "      <td>-0.03125</td>\n",
       "      <td>-0.03125</td>\n",
       "      <td>-0.03125</td>\n",
       "      <td>-0.03125</td>\n",
       "      <td>-0.03125</td>\n",
       "    </tr>\n",
       "    <tr>\n",
       "      <th>301575</th>\n",
       "      <td>-0.03125</td>\n",
       "      <td>0.96875</td>\n",
       "      <td>0.96875</td>\n",
       "      <td>0.96875</td>\n",
       "      <td>-0.03125</td>\n",
       "      <td>0.96875</td>\n",
       "      <td>-0.03125</td>\n",
       "      <td>-0.03125</td>\n",
       "      <td>-0.03125</td>\n",
       "      <td>0.96875</td>\n",
       "      <td>...</td>\n",
       "      <td>0.96875</td>\n",
       "      <td>-0.03125</td>\n",
       "      <td>-0.03125</td>\n",
       "      <td>0.96875</td>\n",
       "      <td>0.96875</td>\n",
       "      <td>0.96875</td>\n",
       "      <td>0.96875</td>\n",
       "      <td>-0.03125</td>\n",
       "      <td>0.96875</td>\n",
       "      <td>0.96875</td>\n",
       "    </tr>\n",
       "    <tr>\n",
       "      <th>340894</th>\n",
       "      <td>-0.03125</td>\n",
       "      <td>0.96875</td>\n",
       "      <td>0.96875</td>\n",
       "      <td>0.96875</td>\n",
       "      <td>-0.03125</td>\n",
       "      <td>0.96875</td>\n",
       "      <td>-0.03125</td>\n",
       "      <td>-0.03125</td>\n",
       "      <td>-0.03125</td>\n",
       "      <td>0.96875</td>\n",
       "      <td>...</td>\n",
       "      <td>0.96875</td>\n",
       "      <td>-0.03125</td>\n",
       "      <td>-0.03125</td>\n",
       "      <td>0.96875</td>\n",
       "      <td>0.96875</td>\n",
       "      <td>0.96875</td>\n",
       "      <td>0.96875</td>\n",
       "      <td>-0.03125</td>\n",
       "      <td>0.96875</td>\n",
       "      <td>0.96875</td>\n",
       "    </tr>\n",
       "    <tr>\n",
       "      <th>920153</th>\n",
       "      <td>-0.03125</td>\n",
       "      <td>0.96875</td>\n",
       "      <td>0.96875</td>\n",
       "      <td>0.96875</td>\n",
       "      <td>-0.03125</td>\n",
       "      <td>0.96875</td>\n",
       "      <td>-0.03125</td>\n",
       "      <td>-0.03125</td>\n",
       "      <td>-0.03125</td>\n",
       "      <td>0.96875</td>\n",
       "      <td>...</td>\n",
       "      <td>0.96875</td>\n",
       "      <td>-0.03125</td>\n",
       "      <td>-0.03125</td>\n",
       "      <td>0.96875</td>\n",
       "      <td>0.96875</td>\n",
       "      <td>0.96875</td>\n",
       "      <td>0.96875</td>\n",
       "      <td>-0.03125</td>\n",
       "      <td>0.96875</td>\n",
       "      <td>0.96875</td>\n",
       "    </tr>\n",
       "    <tr>\n",
       "      <th>1004248</th>\n",
       "      <td>-0.03125</td>\n",
       "      <td>-0.03125</td>\n",
       "      <td>-0.03125</td>\n",
       "      <td>-0.03125</td>\n",
       "      <td>0.96875</td>\n",
       "      <td>-0.03125</td>\n",
       "      <td>-0.03125</td>\n",
       "      <td>-0.03125</td>\n",
       "      <td>-0.03125</td>\n",
       "      <td>-0.03125</td>\n",
       "      <td>...</td>\n",
       "      <td>-0.03125</td>\n",
       "      <td>-0.03125</td>\n",
       "      <td>-0.03125</td>\n",
       "      <td>-0.03125</td>\n",
       "      <td>-0.03125</td>\n",
       "      <td>-0.03125</td>\n",
       "      <td>-0.03125</td>\n",
       "      <td>-0.03125</td>\n",
       "      <td>-0.03125</td>\n",
       "      <td>-0.03125</td>\n",
       "    </tr>\n",
       "  </tbody>\n",
       "</table>\n",
       "<p>5 rows × 997 columns</p>\n",
       "</div>"
      ],
      "text/plain": [
       "users_B  207458     301575     340894     920153     1004248    1237529    \\\n",
       "users_A                                                                     \n",
       "207458     0.96875   -0.03125   -0.03125   -0.03125   -0.03125   -0.03125   \n",
       "301575    -0.03125    0.96875    0.96875    0.96875   -0.03125    0.96875   \n",
       "340894    -0.03125    0.96875    0.96875    0.96875   -0.03125    0.96875   \n",
       "920153    -0.03125    0.96875    0.96875    0.96875   -0.03125    0.96875   \n",
       "1004248   -0.03125   -0.03125   -0.03125   -0.03125    0.96875   -0.03125   \n",
       "\n",
       "users_B  1811156    1883022    2005305    2378358    ...  239200740  \\\n",
       "users_A                                              ...              \n",
       "207458    -0.03125   -0.03125   -0.03125   -0.03125  ...   -0.03125   \n",
       "301575    -0.03125   -0.03125   -0.03125    0.96875  ...    0.96875   \n",
       "340894    -0.03125   -0.03125   -0.03125    0.96875  ...    0.96875   \n",
       "920153    -0.03125   -0.03125   -0.03125    0.96875  ...    0.96875   \n",
       "1004248   -0.03125   -0.03125   -0.03125   -0.03125  ...   -0.03125   \n",
       "\n",
       "users_B  239284494  239515342  239540866  239655255  239665444  239774336  \\\n",
       "users_A                                                                     \n",
       "207458    -0.03125   -0.03125   -0.03125   -0.03125   -0.03125   -0.03125   \n",
       "301575    -0.03125   -0.03125    0.96875    0.96875    0.96875    0.96875   \n",
       "340894    -0.03125   -0.03125    0.96875    0.96875    0.96875    0.96875   \n",
       "920153    -0.03125   -0.03125    0.96875    0.96875    0.96875    0.96875   \n",
       "1004248   -0.03125   -0.03125   -0.03125   -0.03125   -0.03125   -0.03125   \n",
       "\n",
       "users_B  240527919  240792702  240794539  \n",
       "users_A                                   \n",
       "207458    -0.03125   -0.03125   -0.03125  \n",
       "301575    -0.03125    0.96875    0.96875  \n",
       "340894    -0.03125    0.96875    0.96875  \n",
       "920153    -0.03125    0.96875    0.96875  \n",
       "1004248   -0.03125   -0.03125   -0.03125  \n",
       "\n",
       "[5 rows x 997 columns]"
      ]
     },
     "execution_count": 26,
     "metadata": {},
     "output_type": "execute_result"
    }
   ],
   "source": [
    "df_pivot_new=checking.pivot_table(index=['users_A'], columns=['users_B'], values = 'scores').fillna(0)\n",
    "df_pivot_new.head()"
   ]
  },
  {
   "cell_type": "code",
   "execution_count": 27,
   "metadata": {},
   "outputs": [],
   "source": [
    "# Finding the 3 best suited neighboours for each member in the pivot table which is our user-user matrix"
   ]
  },
  {
   "cell_type": "code",
   "execution_count": 28,
   "metadata": {},
   "outputs": [],
   "source": [
    "# df_pivot_new.to_json(r'./data_json/user_user_matrix_normal.json')"
   ]
  },
  {
   "cell_type": "code",
   "execution_count": 29,
   "metadata": {},
   "outputs": [],
   "source": [
    "# pivot_ui(df_pivot_new,rows=['users_A'], cols=['users_B'],outfile_path=\"./data_json/user_user_pivot.html\")"
   ]
  },
  {
   "cell_type": "code",
   "execution_count": 30,
   "metadata": {},
   "outputs": [
    {
     "data": {
      "text/html": [
       "<div>\n",
       "<style scoped>\n",
       "    .dataframe tbody tr th:only-of-type {\n",
       "        vertical-align: middle;\n",
       "    }\n",
       "\n",
       "    .dataframe tbody tr th {\n",
       "        vertical-align: top;\n",
       "    }\n",
       "\n",
       "    .dataframe thead th {\n",
       "        text-align: right;\n",
       "    }\n",
       "</style>\n",
       "<table border=\"1\" class=\"dataframe\">\n",
       "  <thead>\n",
       "    <tr style=\"text-align: right;\">\n",
       "      <th></th>\n",
       "      <th>top1</th>\n",
       "      <th>top2</th>\n",
       "      <th>top3</th>\n",
       "      <th>top4</th>\n",
       "      <th>top5</th>\n",
       "    </tr>\n",
       "    <tr>\n",
       "      <th>users_A</th>\n",
       "      <th></th>\n",
       "      <th></th>\n",
       "      <th></th>\n",
       "      <th></th>\n",
       "      <th></th>\n",
       "    </tr>\n",
       "  </thead>\n",
       "  <tbody>\n",
       "    <tr>\n",
       "      <th>207458</th>\n",
       "      <td>207458</td>\n",
       "      <td>204287520</td>\n",
       "      <td>222627007</td>\n",
       "      <td>90690752</td>\n",
       "      <td>226557421</td>\n",
       "    </tr>\n",
       "    <tr>\n",
       "      <th>301575</th>\n",
       "      <td>240794539</td>\n",
       "      <td>198610210</td>\n",
       "      <td>42738582</td>\n",
       "      <td>196062557</td>\n",
       "      <td>196434316</td>\n",
       "    </tr>\n",
       "    <tr>\n",
       "      <th>340894</th>\n",
       "      <td>240794539</td>\n",
       "      <td>198610210</td>\n",
       "      <td>42738582</td>\n",
       "      <td>196062557</td>\n",
       "      <td>196434316</td>\n",
       "    </tr>\n",
       "    <tr>\n",
       "      <th>920153</th>\n",
       "      <td>240794539</td>\n",
       "      <td>198610210</td>\n",
       "      <td>42738582</td>\n",
       "      <td>196062557</td>\n",
       "      <td>196434316</td>\n",
       "    </tr>\n",
       "    <tr>\n",
       "      <th>1004248</th>\n",
       "      <td>15964391</td>\n",
       "      <td>98672292</td>\n",
       "      <td>135639482</td>\n",
       "      <td>194124536</td>\n",
       "      <td>188448722</td>\n",
       "    </tr>\n",
       "  </tbody>\n",
       "</table>\n",
       "</div>"
      ],
      "text/plain": [
       "              top1       top2       top3       top4       top5\n",
       "users_A                                                       \n",
       "207458      207458  204287520  222627007   90690752  226557421\n",
       "301575   240794539  198610210   42738582  196062557  196434316\n",
       "340894   240794539  198610210   42738582  196062557  196434316\n",
       "920153   240794539  198610210   42738582  196062557  196434316\n",
       "1004248   15964391   98672292  135639482  194124536  188448722"
      ]
     },
     "execution_count": 30,
     "metadata": {},
     "output_type": "execute_result"
    }
   ],
   "source": [
    "neigh_3 = find_k_neighbours(df_pivot_new,5)\n",
    "neigh_3.head()"
   ]
  },
  {
   "cell_type": "code",
   "execution_count": 31,
   "metadata": {},
   "outputs": [
    {
     "name": "stdout",
     "output_type": "stream",
     "text": [
      "[9280932, 159387072, 43256742, 211591350, 39868862]\n"
     ]
    }
   ],
   "source": [
    "user_list = list(neigh_3.index)\n",
    "user_list = sample(user_list, 5)\n",
    "print(user_list)"
   ]
  },
  {
   "cell_type": "markdown",
   "metadata": {},
   "source": [
    "<b> Converting the User-List to JSON"
   ]
  },
  {
   "cell_type": "code",
   "execution_count": 32,
   "metadata": {},
   "outputs": [],
   "source": [
    "# with open('./data_json/user_list.json', 'w') as json_file:\n",
    "#     json.dump(user_list, json_file)"
   ]
  },
  {
   "cell_type": "markdown",
   "metadata": {},
   "source": [
    "<b> Converting neirest neigbour matrix to json"
   ]
  },
  {
   "cell_type": "code",
   "execution_count": 33,
   "metadata": {},
   "outputs": [],
   "source": [
    "# neigh_3.to_json(r'./data_json/neigh_3.json')"
   ]
  },
  {
   "cell_type": "code",
   "execution_count": 34,
   "metadata": {},
   "outputs": [],
   "source": [
    "# GEtting the user from the \"USER_LIST\"\n",
    "selected_user = user_list[1]"
   ]
  },
  {
   "cell_type": "code",
   "execution_count": 35,
   "metadata": {},
   "outputs": [],
   "source": [
    "# We could iterate over these users to generate all static data"
   ]
  },
  {
   "cell_type": "code",
   "execution_count": 36,
   "metadata": {},
   "outputs": [],
   "source": [
    "user_val = df_pivot.loc[selected_user:selected_user]"
   ]
  },
  {
   "cell_type": "code",
   "execution_count": 37,
   "metadata": {},
   "outputs": [
    {
     "data": {
      "text/html": [
       "<div>\n",
       "<style scoped>\n",
       "    .dataframe tbody tr th:only-of-type {\n",
       "        vertical-align: middle;\n",
       "    }\n",
       "\n",
       "    .dataframe tbody tr th {\n",
       "        vertical-align: top;\n",
       "    }\n",
       "\n",
       "    .dataframe thead th {\n",
       "        text-align: right;\n",
       "    }\n",
       "</style>\n",
       "<table border=\"1\" class=\"dataframe\">\n",
       "  <thead>\n",
       "    <tr style=\"text-align: right;\">\n",
       "      <th>category_id</th>\n",
       "      <th>1</th>\n",
       "      <th>2</th>\n",
       "      <th>3</th>\n",
       "      <th>4</th>\n",
       "      <th>5</th>\n",
       "      <th>6</th>\n",
       "      <th>8</th>\n",
       "      <th>9</th>\n",
       "      <th>10</th>\n",
       "      <th>11</th>\n",
       "      <th>...</th>\n",
       "      <th>26</th>\n",
       "      <th>27</th>\n",
       "      <th>28</th>\n",
       "      <th>29</th>\n",
       "      <th>30</th>\n",
       "      <th>31</th>\n",
       "      <th>32</th>\n",
       "      <th>33</th>\n",
       "      <th>34</th>\n",
       "      <th>36</th>\n",
       "    </tr>\n",
       "    <tr>\n",
       "      <th>member_id</th>\n",
       "      <th></th>\n",
       "      <th></th>\n",
       "      <th></th>\n",
       "      <th></th>\n",
       "      <th></th>\n",
       "      <th></th>\n",
       "      <th></th>\n",
       "      <th></th>\n",
       "      <th></th>\n",
       "      <th></th>\n",
       "      <th></th>\n",
       "      <th></th>\n",
       "      <th></th>\n",
       "      <th></th>\n",
       "      <th></th>\n",
       "      <th></th>\n",
       "      <th></th>\n",
       "      <th></th>\n",
       "      <th></th>\n",
       "      <th></th>\n",
       "      <th></th>\n",
       "    </tr>\n",
       "  </thead>\n",
       "  <tbody>\n",
       "    <tr>\n",
       "      <th>159387072</th>\n",
       "      <td>0.0</td>\n",
       "      <td>1.0</td>\n",
       "      <td>0.0</td>\n",
       "      <td>0.0</td>\n",
       "      <td>0.0</td>\n",
       "      <td>0.0</td>\n",
       "      <td>0.0</td>\n",
       "      <td>0.0</td>\n",
       "      <td>0.0</td>\n",
       "      <td>0.0</td>\n",
       "      <td>...</td>\n",
       "      <td>0.0</td>\n",
       "      <td>0.0</td>\n",
       "      <td>0.0</td>\n",
       "      <td>0.0</td>\n",
       "      <td>0.0</td>\n",
       "      <td>1.0</td>\n",
       "      <td>0.0</td>\n",
       "      <td>0.0</td>\n",
       "      <td>0.0</td>\n",
       "      <td>0.0</td>\n",
       "    </tr>\n",
       "  </tbody>\n",
       "</table>\n",
       "<p>1 rows × 32 columns</p>\n",
       "</div>"
      ],
      "text/plain": [
       "category_id   1    2    3    4    5    6    8    9    10   11  ...   26   27  \\\n",
       "member_id                                                      ...             \n",
       "159387072    0.0  1.0  0.0  0.0  0.0  0.0  0.0  0.0  0.0  0.0  ...  0.0  0.0   \n",
       "\n",
       "category_id   28   29   30   31   32   33   34   36  \n",
       "member_id                                            \n",
       "159387072    0.0  0.0  0.0  1.0  0.0  0.0  0.0  0.0  \n",
       "\n",
       "[1 rows x 32 columns]"
      ]
     },
     "execution_count": 37,
     "metadata": {},
     "output_type": "execute_result"
    }
   ],
   "source": [
    "user_val"
   ]
  },
  {
   "cell_type": "code",
   "execution_count": 38,
   "metadata": {},
   "outputs": [],
   "source": [
    "# Now we are finding the adjacent members whom the selected user shares the most compatibility with"
   ]
  },
  {
   "cell_type": "code",
   "execution_count": 39,
   "metadata": {},
   "outputs": [],
   "source": [
    "selected_users_check = []\n",
    "neigh_3 = neigh_3.loc[selected_user]\n",
    "for i in neigh_3:\n",
    "    if(i not in selected_users_check and (i is not None)):\n",
    "        selected_users_check.append(i)\n",
    "member_list=[]\n",
    "for i in range(0,len(selected_users_check)):\n",
    "    if(selected_user == selected_users_check[i]):\n",
    "        pass\n",
    "    else:\n",
    "        member_list.append(selected_users_check[i])"
   ]
  },
  {
   "cell_type": "code",
   "execution_count": 40,
   "metadata": {},
   "outputs": [
    {
     "name": "stdout",
     "output_type": "stream",
     "text": [
      "[214842733, 210444159, 13357543, 208356602]\n"
     ]
    }
   ],
   "source": [
    "# All the selected members from the above data - member_list\n",
    "print(member_list)"
   ]
  },
  {
   "cell_type": "code",
   "execution_count": 41,
   "metadata": {},
   "outputs": [
    {
     "data": {
      "text/html": [
       "<div>\n",
       "<style scoped>\n",
       "    .dataframe tbody tr th:only-of-type {\n",
       "        vertical-align: middle;\n",
       "    }\n",
       "\n",
       "    .dataframe tbody tr th {\n",
       "        vertical-align: top;\n",
       "    }\n",
       "\n",
       "    .dataframe thead th {\n",
       "        text-align: right;\n",
       "    }\n",
       "</style>\n",
       "<table border=\"1\" class=\"dataframe\">\n",
       "  <thead>\n",
       "    <tr style=\"text-align: right;\">\n",
       "      <th></th>\n",
       "      <th>member_id</th>\n",
       "      <th>category_id</th>\n",
       "      <th>group_id</th>\n",
       "      <th>rating</th>\n",
       "      <th>values</th>\n",
       "    </tr>\n",
       "  </thead>\n",
       "  <tbody>\n",
       "    <tr>\n",
       "      <th>1373571</th>\n",
       "      <td>40306002</td>\n",
       "      <td>34</td>\n",
       "      <td>1642835</td>\n",
       "      <td>4.80</td>\n",
       "      <td>1</td>\n",
       "    </tr>\n",
       "    <tr>\n",
       "      <th>1434694</th>\n",
       "      <td>178513572</td>\n",
       "      <td>30</td>\n",
       "      <td>1684051</td>\n",
       "      <td>4.22</td>\n",
       "      <td>1</td>\n",
       "    </tr>\n",
       "    <tr>\n",
       "      <th>259043</th>\n",
       "      <td>40827052</td>\n",
       "      <td>16</td>\n",
       "      <td>3324842</td>\n",
       "      <td>4.75</td>\n",
       "      <td>1</td>\n",
       "    </tr>\n",
       "    <tr>\n",
       "      <th>1599173</th>\n",
       "      <td>77440242</td>\n",
       "      <td>2</td>\n",
       "      <td>1645494</td>\n",
       "      <td>4.63</td>\n",
       "      <td>1</td>\n",
       "    </tr>\n",
       "    <tr>\n",
       "      <th>516392</th>\n",
       "      <td>189020506</td>\n",
       "      <td>34</td>\n",
       "      <td>1561620</td>\n",
       "      <td>4.75</td>\n",
       "      <td>1</td>\n",
       "    </tr>\n",
       "  </tbody>\n",
       "</table>\n",
       "</div>"
      ],
      "text/plain": [
       "         member_id  category_id  group_id  rating  values\n",
       "1373571   40306002           34   1642835    4.80       1\n",
       "1434694  178513572           30   1684051    4.22       1\n",
       "259043    40827052           16   3324842    4.75       1\n",
       "1599173   77440242            2   1645494    4.63       1\n",
       "516392   189020506           34   1561620    4.75       1"
      ]
     },
     "execution_count": 41,
     "metadata": {},
     "output_type": "execute_result"
    }
   ],
   "source": [
    "tester.head()"
   ]
  },
  {
   "cell_type": "code",
   "execution_count": 42,
   "metadata": {},
   "outputs": [],
   "source": [
    "copy_data = data_users.copy()"
   ]
  },
  {
   "cell_type": "code",
   "execution_count": 43,
   "metadata": {},
   "outputs": [
    {
     "data": {
      "text/html": [
       "<div>\n",
       "<style scoped>\n",
       "    .dataframe tbody tr th:only-of-type {\n",
       "        vertical-align: middle;\n",
       "    }\n",
       "\n",
       "    .dataframe tbody tr th {\n",
       "        vertical-align: top;\n",
       "    }\n",
       "\n",
       "    .dataframe thead th {\n",
       "        text-align: right;\n",
       "    }\n",
       "</style>\n",
       "<table border=\"1\" class=\"dataframe\">\n",
       "  <thead>\n",
       "    <tr style=\"text-align: right;\">\n",
       "      <th></th>\n",
       "      <th>member_id</th>\n",
       "      <th>category_id</th>\n",
       "      <th>group_id</th>\n",
       "      <th>rating</th>\n",
       "    </tr>\n",
       "  </thead>\n",
       "  <tbody>\n",
       "    <tr>\n",
       "      <th>0</th>\n",
       "      <td>3</td>\n",
       "      <td>2</td>\n",
       "      <td>490552</td>\n",
       "      <td>4.67</td>\n",
       "    </tr>\n",
       "    <tr>\n",
       "      <th>1</th>\n",
       "      <td>210</td>\n",
       "      <td>2</td>\n",
       "      <td>490552</td>\n",
       "      <td>4.67</td>\n",
       "    </tr>\n",
       "    <tr>\n",
       "      <th>2</th>\n",
       "      <td>357518</td>\n",
       "      <td>2</td>\n",
       "      <td>490552</td>\n",
       "      <td>4.67</td>\n",
       "    </tr>\n",
       "    <tr>\n",
       "      <th>3</th>\n",
       "      <td>511008</td>\n",
       "      <td>2</td>\n",
       "      <td>490552</td>\n",
       "      <td>4.67</td>\n",
       "    </tr>\n",
       "    <tr>\n",
       "      <th>4</th>\n",
       "      <td>915553</td>\n",
       "      <td>2</td>\n",
       "      <td>490552</td>\n",
       "      <td>4.67</td>\n",
       "    </tr>\n",
       "  </tbody>\n",
       "</table>\n",
       "</div>"
      ],
      "text/plain": [
       "   member_id  category_id  group_id  rating\n",
       "0          3            2    490552    4.67\n",
       "1        210            2    490552    4.67\n",
       "2     357518            2    490552    4.67\n",
       "3     511008            2    490552    4.67\n",
       "4     915553            2    490552    4.67"
      ]
     },
     "execution_count": 43,
     "metadata": {},
     "output_type": "execute_result"
    }
   ],
   "source": [
    "copy_data.head()"
   ]
  },
  {
   "cell_type": "code",
   "execution_count": 44,
   "metadata": {},
   "outputs": [
    {
     "data": {
      "text/plain": [
       "(3127947, 4)"
      ]
     },
     "execution_count": 44,
     "metadata": {},
     "output_type": "execute_result"
    }
   ],
   "source": [
    "copy_data.shape"
   ]
  },
  {
   "cell_type": "code",
   "execution_count": 45,
   "metadata": {},
   "outputs": [
    {
     "data": {
      "text/html": [
       "<div>\n",
       "<style scoped>\n",
       "    .dataframe tbody tr th:only-of-type {\n",
       "        vertical-align: middle;\n",
       "    }\n",
       "\n",
       "    .dataframe tbody tr th {\n",
       "        vertical-align: top;\n",
       "    }\n",
       "\n",
       "    .dataframe thead th {\n",
       "        text-align: right;\n",
       "    }\n",
       "</style>\n",
       "<table border=\"1\" class=\"dataframe\">\n",
       "  <thead>\n",
       "    <tr style=\"text-align: right;\">\n",
       "      <th></th>\n",
       "      <th>member_id</th>\n",
       "      <th>category_id</th>\n",
       "      <th>group_id</th>\n",
       "      <th>rating</th>\n",
       "    </tr>\n",
       "  </thead>\n",
       "  <tbody>\n",
       "    <tr>\n",
       "      <th>15921</th>\n",
       "      <td>208356602.0</td>\n",
       "      <td>34.0</td>\n",
       "      <td>1515830.0</td>\n",
       "      <td>4.71</td>\n",
       "    </tr>\n",
       "    <tr>\n",
       "      <th>18563</th>\n",
       "      <td>13357543.0</td>\n",
       "      <td>34.0</td>\n",
       "      <td>1574965.0</td>\n",
       "      <td>4.57</td>\n",
       "    </tr>\n",
       "    <tr>\n",
       "      <th>76264</th>\n",
       "      <td>13357543.0</td>\n",
       "      <td>34.0</td>\n",
       "      <td>2829432.0</td>\n",
       "      <td>4.77</td>\n",
       "    </tr>\n",
       "    <tr>\n",
       "      <th>154856</th>\n",
       "      <td>13357543.0</td>\n",
       "      <td>34.0</td>\n",
       "      <td>263790.0</td>\n",
       "      <td>4.64</td>\n",
       "    </tr>\n",
       "    <tr>\n",
       "      <th>180766</th>\n",
       "      <td>13357543.0</td>\n",
       "      <td>34.0</td>\n",
       "      <td>1484316.0</td>\n",
       "      <td>4.37</td>\n",
       "    </tr>\n",
       "  </tbody>\n",
       "</table>\n",
       "</div>"
      ],
      "text/plain": [
       "          member_id  category_id   group_id  rating\n",
       "15921   208356602.0         34.0  1515830.0    4.71\n",
       "18563    13357543.0         34.0  1574965.0    4.57\n",
       "76264    13357543.0         34.0  2829432.0    4.77\n",
       "154856   13357543.0         34.0   263790.0    4.64\n",
       "180766   13357543.0         34.0  1484316.0    4.37"
      ]
     },
     "execution_count": 45,
     "metadata": {},
     "output_type": "execute_result"
    }
   ],
   "source": [
    "filter_groups_mem_info = copy_data['member_id'].isin(member_list)\n",
    "copy_data.where(filter_groups_mem_info,inplace=True)\n",
    "copy_data = copy_data.dropna()\n",
    "copy_data.head()"
   ]
  },
  {
   "cell_type": "code",
   "execution_count": 46,
   "metadata": {},
   "outputs": [],
   "source": [
    "# copy_data.to_json(r'./data_json/groups_of_selected_memebrs.json')"
   ]
  },
  {
   "cell_type": "code",
   "execution_count": 47,
   "metadata": {},
   "outputs": [
    {
     "data": {
      "text/plain": [
       "(268, 4)"
      ]
     },
     "execution_count": 47,
     "metadata": {},
     "output_type": "execute_result"
    }
   ],
   "source": [
    "copy_data.shape"
   ]
  },
  {
   "cell_type": "code",
   "execution_count": 48,
   "metadata": {},
   "outputs": [
    {
     "data": {
      "text/html": [
       "<div>\n",
       "<style scoped>\n",
       "    .dataframe tbody tr th:only-of-type {\n",
       "        vertical-align: middle;\n",
       "    }\n",
       "\n",
       "    .dataframe tbody tr th {\n",
       "        vertical-align: top;\n",
       "    }\n",
       "\n",
       "    .dataframe thead th {\n",
       "        text-align: right;\n",
       "    }\n",
       "</style>\n",
       "<table border=\"1\" class=\"dataframe\">\n",
       "  <thead>\n",
       "    <tr style=\"text-align: right;\">\n",
       "      <th></th>\n",
       "      <th>member_id</th>\n",
       "      <th>category_id</th>\n",
       "      <th>group_id</th>\n",
       "      <th>rating</th>\n",
       "    </tr>\n",
       "  </thead>\n",
       "  <tbody>\n",
       "    <tr>\n",
       "      <th>15921</th>\n",
       "      <td>208356602.0</td>\n",
       "      <td>34.0</td>\n",
       "      <td>1515830.0</td>\n",
       "      <td>4.71</td>\n",
       "    </tr>\n",
       "    <tr>\n",
       "      <th>18563</th>\n",
       "      <td>13357543.0</td>\n",
       "      <td>34.0</td>\n",
       "      <td>1574965.0</td>\n",
       "      <td>4.57</td>\n",
       "    </tr>\n",
       "    <tr>\n",
       "      <th>76264</th>\n",
       "      <td>13357543.0</td>\n",
       "      <td>34.0</td>\n",
       "      <td>2829432.0</td>\n",
       "      <td>4.77</td>\n",
       "    </tr>\n",
       "    <tr>\n",
       "      <th>154856</th>\n",
       "      <td>13357543.0</td>\n",
       "      <td>34.0</td>\n",
       "      <td>263790.0</td>\n",
       "      <td>4.64</td>\n",
       "    </tr>\n",
       "    <tr>\n",
       "      <th>180766</th>\n",
       "      <td>13357543.0</td>\n",
       "      <td>34.0</td>\n",
       "      <td>1484316.0</td>\n",
       "      <td>4.37</td>\n",
       "    </tr>\n",
       "  </tbody>\n",
       "</table>\n",
       "</div>"
      ],
      "text/plain": [
       "          member_id  category_id   group_id  rating\n",
       "15921   208356602.0         34.0  1515830.0    4.71\n",
       "18563    13357543.0         34.0  1574965.0    4.57\n",
       "76264    13357543.0         34.0  2829432.0    4.77\n",
       "154856   13357543.0         34.0   263790.0    4.64\n",
       "180766   13357543.0         34.0  1484316.0    4.37"
      ]
     },
     "execution_count": 48,
     "metadata": {},
     "output_type": "execute_result"
    }
   ],
   "source": [
    "copy_data.head()"
   ]
  },
  {
   "cell_type": "code",
   "execution_count": 49,
   "metadata": {},
   "outputs": [],
   "source": [
    "# Fetching all the groups based on the above pulled member-groups"
   ]
  },
  {
   "cell_type": "code",
   "execution_count": 50,
   "metadata": {},
   "outputs": [],
   "source": [
    "group_list_vals = copy_data['group_id'].to_list()\n",
    "group_list_vals = set(group_list_vals)\n",
    "group_list_vals = list(group_list_vals)"
   ]
  },
  {
   "cell_type": "code",
   "execution_count": 51,
   "metadata": {},
   "outputs": [
    {
     "name": "stdout",
     "output_type": "stream",
     "text": [
      "[490499.0, 14681092.0, 234502.0, 1560588.0, 15012882.0, 5775892.0, 19426836.0, 12403222.0, 18303000.0, 1747482.0, 1781275.0, 1484316.0, 20017181.0, 18564126.0, 1460770.0, 192035.0, 9483812.0, 9201702.0, 18881063.0, 1765929.0, 19417644.0, 18311212.0, 7403052.0, 148015.0, 8766512.0, 1339949.0, 1244211.0, 18807859.0, 1574965.0, 1573942.0, 16299062.0, 3472952.0, 18867769.0, 1803833.0, 1603636.0, 20154943.0, 18910784.0, 19768901.0, 12625992.0, 20286545.0, 2195031.0, 57434.0, 1518683.0, 1789022.0, 355423.0, 1770593.0, 1222759.0, 19836520.0, 156777.0, 84585.0, 37994.0, 14773352.0, 1759335.0, 263790.0, 20046962.0, 4054132.0, 1286261.0, 224373.0, 1358965.0, 2829432.0, 11495032.0, 10260602.0, 18508920.0, 18592892.0, 14035072.0, 638592.0, 19708034.0, 3751052.0, 18564750.0, 19969167.0, 19828884.0, 1801877.0, 17094292.0, 1387161.0, 13242522.0, 3649182.0, 4148382.0, 1334949.0, 18324645.0, 18883764.0, 1235637.0, 11476662.0, 3361462.0, 3637432.0, 20269240.0, 4241082.0, 1461951.0, 1686207.0, 653508.0, 19566279.0, 11356872.0, 12469962.0, 2798802.0, 7045332.0, 799957.0, 1240279.0, 1494747.0, 745184.0, 7359202.0, 1602275.0, 18234596.0, 2853092.0, 317159.0, 6592232.0, 1192681.0, 1492713.0, 8940.0, 16390892.0, 1803502.0, 1325806.0, 18506990.0, 1524977.0, 298739.0, 1658101.0, 18519287.0, 3162872.0, 1339645.0, 217853.0, 1444093.0, 20199165.0, 3584262.0, 19875078.0, 18510088.0, 995599.0, 856848.0, 19046161.0, 18413330.0, 18570003.0, 18713366.0, 18543896.0, 1250073.0, 19939097.0, 1333016.0, 3430172.0, 1585433.0, 1752350.0, 16207142.0, 1584426.0, 4670762.0, 17769772.0, 344877.0, 19701547.0, 19539758.0, 1662259.0, 3736372.0, 378676.0, 1515830.0, 1744183.0, 18071352.0, 7890742.0, 11064122.0, 6143802.0, 1542972.0, 8881982.0, 19682113.0, 2132291.0, 4139332.0, 19112261.0, 744262.0, 9045322.0, 18744139.0, 1299276.0, 19881805.0, 19672397.0, 18300238.0, 19882829.0, 12056402.0, 7847762.0, 1440082.0, 513363.0, 1516886.0, 14024532.0, 19252572.0, 19634524.0, 4846942.0, 19556701.0, 52576.0, 497505.0, 16614752.0, 19850084.0, 216933.0, 228200.0, 19345772.0, 13588332.0, 2039151.0, 15499122.0, 1814389.0, 1325945.0, 4021122.0, 2269571.0, 8663942.0, 495495.0, 6431622.0, 244113.0, 1387415.0, 10203032.0, 18383769.0, 1536410.0, 1498018.0, 54691.0, 13266852.0, 1680805.0, 842661.0, 16346022.0, 18409895.0, 1477033.0, 1550763.0, 18487214.0, 18289582.0, 782256.0, 20232623.0, 6773682.0, 19321267.0, 1644976.0, 45494.0, 18823607.0, 477112.0, 1377720.0, 19972022.0, 756158.0, 6591422.0, 8027072.0, 3195842.0, 137667.0, 5087172.0, 18475971.0, 19936710.0, 19681223.0, 336841.0, 893386.0, 1764299.0, 418253.0, 13058512.0, 2674642.0, 18383318.0, 18252759.0, 6893532.0, 15669212.0, 213982.0, 1741277.0, 110560.0, 2122721.0, 18511330.0, 1591779.0, 7182822.0, 14675942.0, 1694184.0, 4268012.0, 18532334.0, 1297902.0, 6650352.0, 1721329.0, 2638322.0, 1790963.0, 9513972.0, 18703347.0, 9902072.0, 8403962.0, 404476.0, 1381885.0, 19874815.0]\n"
     ]
    }
   ],
   "source": [
    "print(group_list_vals)"
   ]
  },
  {
   "cell_type": "code",
   "execution_count": 52,
   "metadata": {},
   "outputs": [],
   "source": [
    "# Randomly selecting 5 groups from the above list"
   ]
  },
  {
   "cell_type": "code",
   "execution_count": 53,
   "metadata": {},
   "outputs": [
    {
     "name": "stdout",
     "output_type": "stream",
     "text": [
      "[18413330.0, 1803833.0, 1440082.0, 1444093.0, 15669212.0, 9483812.0, 1658101.0, 11495032.0, 20286545.0, 19881805.0]\n"
     ]
    }
   ],
   "source": [
    "random_5_groups = sample(group_list_vals,10)\n",
    "print(random_5_groups)"
   ]
  },
  {
   "cell_type": "code",
   "execution_count": 54,
   "metadata": {},
   "outputs": [],
   "source": [
    "groups_all = data_users.copy()"
   ]
  },
  {
   "cell_type": "code",
   "execution_count": 55,
   "metadata": {},
   "outputs": [
    {
     "data": {
      "text/plain": [
       "(11263, 4)"
      ]
     },
     "execution_count": 55,
     "metadata": {},
     "output_type": "execute_result"
    }
   ],
   "source": [
    "filter_groups_from_rand = groups_all['group_id'].isin(random_5_groups)\n",
    "groups_all.where(filter_groups_from_rand,inplace=True)\n",
    "groups_all = groups_all.dropna()\n",
    "groups_all.shape"
   ]
  },
  {
   "cell_type": "code",
   "execution_count": 56,
   "metadata": {},
   "outputs": [
    {
     "data": {
      "text/html": [
       "<div>\n",
       "<style scoped>\n",
       "    .dataframe tbody tr th:only-of-type {\n",
       "        vertical-align: middle;\n",
       "    }\n",
       "\n",
       "    .dataframe tbody tr th {\n",
       "        vertical-align: top;\n",
       "    }\n",
       "\n",
       "    .dataframe thead th {\n",
       "        text-align: right;\n",
       "    }\n",
       "</style>\n",
       "<table border=\"1\" class=\"dataframe\">\n",
       "  <thead>\n",
       "    <tr style=\"text-align: right;\">\n",
       "      <th>category_id</th>\n",
       "      <th>1</th>\n",
       "      <th>2</th>\n",
       "      <th>3</th>\n",
       "      <th>4</th>\n",
       "      <th>5</th>\n",
       "      <th>6</th>\n",
       "      <th>8</th>\n",
       "      <th>9</th>\n",
       "      <th>10</th>\n",
       "      <th>11</th>\n",
       "      <th>...</th>\n",
       "      <th>26</th>\n",
       "      <th>27</th>\n",
       "      <th>28</th>\n",
       "      <th>29</th>\n",
       "      <th>30</th>\n",
       "      <th>31</th>\n",
       "      <th>32</th>\n",
       "      <th>33</th>\n",
       "      <th>34</th>\n",
       "      <th>36</th>\n",
       "    </tr>\n",
       "    <tr>\n",
       "      <th>member_id</th>\n",
       "      <th></th>\n",
       "      <th></th>\n",
       "      <th></th>\n",
       "      <th></th>\n",
       "      <th></th>\n",
       "      <th></th>\n",
       "      <th></th>\n",
       "      <th></th>\n",
       "      <th></th>\n",
       "      <th></th>\n",
       "      <th></th>\n",
       "      <th></th>\n",
       "      <th></th>\n",
       "      <th></th>\n",
       "      <th></th>\n",
       "      <th></th>\n",
       "      <th></th>\n",
       "      <th></th>\n",
       "      <th></th>\n",
       "      <th></th>\n",
       "      <th></th>\n",
       "    </tr>\n",
       "  </thead>\n",
       "  <tbody>\n",
       "    <tr>\n",
       "      <th>159387072</th>\n",
       "      <td>0.0</td>\n",
       "      <td>1.0</td>\n",
       "      <td>0.0</td>\n",
       "      <td>0.0</td>\n",
       "      <td>0.0</td>\n",
       "      <td>0.0</td>\n",
       "      <td>0.0</td>\n",
       "      <td>0.0</td>\n",
       "      <td>0.0</td>\n",
       "      <td>0.0</td>\n",
       "      <td>...</td>\n",
       "      <td>0.0</td>\n",
       "      <td>0.0</td>\n",
       "      <td>0.0</td>\n",
       "      <td>0.0</td>\n",
       "      <td>0.0</td>\n",
       "      <td>1.0</td>\n",
       "      <td>0.0</td>\n",
       "      <td>0.0</td>\n",
       "      <td>0.0</td>\n",
       "      <td>0.0</td>\n",
       "    </tr>\n",
       "  </tbody>\n",
       "</table>\n",
       "<p>1 rows × 32 columns</p>\n",
       "</div>"
      ],
      "text/plain": [
       "category_id   1    2    3    4    5    6    8    9    10   11  ...   26   27  \\\n",
       "member_id                                                      ...             \n",
       "159387072    0.0  1.0  0.0  0.0  0.0  0.0  0.0  0.0  0.0  0.0  ...  0.0  0.0   \n",
       "\n",
       "category_id   28   29   30   31   32   33   34   36  \n",
       "member_id                                            \n",
       "159387072    0.0  0.0  0.0  1.0  0.0  0.0  0.0  0.0  \n",
       "\n",
       "[1 rows x 32 columns]"
      ]
     },
     "execution_count": 56,
     "metadata": {},
     "output_type": "execute_result"
    }
   ],
   "source": [
    "t_user_val = user_val.copy()\n",
    "user_val"
   ]
  },
  {
   "cell_type": "code",
   "execution_count": 57,
   "metadata": {},
   "outputs": [],
   "source": [
    "weighted_score = []\n",
    "result_groups = []\n",
    "members1 = []\n",
    "members2 = []\n",
    "scores = []\n",
    "weights = []\n",
    "groups_to_check = []"
   ]
  },
  {
   "cell_type": "code",
   "execution_count": 58,
   "metadata": {},
   "outputs": [
    {
     "name": "stderr",
     "output_type": "stream",
     "text": [
      "C:\\Users\\tusha\\Anaconda3\\lib\\site-packages\\ipykernel_launcher.py:7: RuntimeWarning: divide by zero encountered in double_scalars\n",
      "  import sys\n"
     ]
    }
   ],
   "source": [
    "for i in range(0,len(random_5_groups)):\n",
    "    group_value = random_5_groups[i]\n",
    "    data_users_loop = pd.read_csv('user_cat.csv',index_col=0)\n",
    "    filer_loop = data_users_loop['group_id'] == group_value\n",
    "    data_users_loop = data_users_loop.dropna()\n",
    "    data_users_loop\n",
    "    \n",
    "    # Converting the above dataframe to pivot table - User - Category Matrix\n",
    "    data_users_loop['values']=1\n",
    "    df_pivot_new = data_users_loop.pivot_table(index=['member_id'], columns=['category_id'], values = 'values').fillna(0)\n",
    "    \n",
    "    score_per_user_match = []\n",
    "    member_vals = []\n",
    "    index_list = []\n",
    "    \n",
    "    # Fetch all the members of this group\n",
    "    for index,row in df_pivot_new.iterrows():\n",
    "        index_list.append(index)\n",
    "    \n",
    "    # Iterating over the fetched users\n",
    "    user1 = user_val\n",
    "    \n",
    "    \n",
    "    for j in range(0,len(index_list)):\n",
    "        user2 = df_pivot.iloc[j:j+1]\n",
    "        # print('user 2 --',user2)\n",
    "\n",
    "        score = pearson_score(user1,user2)\n",
    "        # print(\"Score : \",score)\n",
    "        \n",
    "        scores.append(score)\n",
    "       \n",
    "        weights.append(gbellmf(score))    \n",
    "        \n",
    "        members1.append(user1)\n",
    "        members2.append(index_list[j])\n",
    "\n",
    "        list_add = []\n",
    "        list_add.append(user1)\n",
    "        list_add.append(index_list[j])\n",
    "        # score_list_old.append(score)\n",
    "        list_add.append(score)\n",
    "        result_groups.append(list_add)\n",
    "\n",
    "        # Finding the weighted average\n",
    "        # print(\"scores :\",scores)\n",
    "        # print(\"weights :\",weights)\n",
    "\n",
    "#     update = weighted_average_over_scores(scores,weights)\n",
    "#     update = geom_mean(scores,weights)\n",
    "    update = har_mean(scores,weights)\n",
    "    weighted_score.append(update)"
   ]
  },
  {
   "cell_type": "code",
   "execution_count": 59,
   "metadata": {},
   "outputs": [],
   "source": [
    "Threshold_val = np.mean(weighted_score)"
   ]
  },
  {
   "cell_type": "code",
   "execution_count": 60,
   "metadata": {},
   "outputs": [
    {
     "name": "stdout",
     "output_type": "stream",
     "text": [
      "159387072\n"
     ]
    }
   ],
   "source": [
    "user_value_selected = list(user_val.index)\n",
    "user_value_selected = user_value_selected[0]\n",
    "print(user_value_selected)"
   ]
  },
  {
   "cell_type": "code",
   "execution_count": 61,
   "metadata": {},
   "outputs": [
    {
     "data": {
      "text/plain": [
       "0.0"
      ]
     },
     "execution_count": 61,
     "metadata": {},
     "output_type": "execute_result"
    }
   ],
   "source": [
    "Threshold_val"
   ]
  },
  {
   "cell_type": "code",
   "execution_count": 62,
   "metadata": {},
   "outputs": [
    {
     "data": {
      "text/plain": [
       "[0.0, 0.0, 0.0, 0.0, 0.0, 0.0, 0.0, 0.0, 0.0, 0.0]"
      ]
     },
     "execution_count": 62,
     "metadata": {},
     "output_type": "execute_result"
    }
   ],
   "source": [
    "weighted_score"
   ]
  },
  {
   "cell_type": "code",
   "execution_count": 63,
   "metadata": {},
   "outputs": [],
   "source": [
    "t2 = np.median(weighted_score)"
   ]
  },
  {
   "cell_type": "code",
   "execution_count": 64,
   "metadata": {},
   "outputs": [
    {
     "data": {
      "text/plain": [
       "0.0"
      ]
     },
     "execution_count": 64,
     "metadata": {},
     "output_type": "execute_result"
    }
   ],
   "source": [
    "t2"
   ]
  },
  {
   "cell_type": "code",
   "execution_count": 65,
   "metadata": {},
   "outputs": [],
   "source": [
    "final_result = []\n",
    "for i in range(0,len(weighted_score)):\n",
    "    if(weighted_score[i]>=Threshold_val):\n",
    "        list_final = []\n",
    "        list_final.append(user_value_selected)\n",
    "        list_final.append(random_5_groups[i])\n",
    "        list_final.append(weighted_score[i])\n",
    "        \n",
    "        final_result.append(list_final)"
   ]
  },
  {
   "cell_type": "code",
   "execution_count": 66,
   "metadata": {},
   "outputs": [
    {
     "data": {
      "text/plain": [
       "[[159387072, 18413330.0, 0.0],\n",
       " [159387072, 1803833.0, 0.0],\n",
       " [159387072, 1440082.0, 0.0],\n",
       " [159387072, 1444093.0, 0.0],\n",
       " [159387072, 15669212.0, 0.0],\n",
       " [159387072, 9483812.0, 0.0],\n",
       " [159387072, 1658101.0, 0.0],\n",
       " [159387072, 11495032.0, 0.0],\n",
       " [159387072, 20286545.0, 0.0],\n",
       " [159387072, 19881805.0, 0.0]]"
      ]
     },
     "execution_count": 66,
     "metadata": {},
     "output_type": "execute_result"
    }
   ],
   "source": [
    "final_result"
   ]
  },
  {
   "cell_type": "code",
   "execution_count": 67,
   "metadata": {},
   "outputs": [
    {
     "data": {
      "text/html": [
       "<div>\n",
       "<style scoped>\n",
       "    .dataframe tbody tr th:only-of-type {\n",
       "        vertical-align: middle;\n",
       "    }\n",
       "\n",
       "    .dataframe tbody tr th {\n",
       "        vertical-align: top;\n",
       "    }\n",
       "\n",
       "    .dataframe thead th {\n",
       "        text-align: right;\n",
       "    }\n",
       "</style>\n",
       "<table border=\"1\" class=\"dataframe\">\n",
       "  <thead>\n",
       "    <tr style=\"text-align: right;\">\n",
       "      <th></th>\n",
       "      <th>users_A</th>\n",
       "      <th>groups</th>\n",
       "      <th>scores</th>\n",
       "    </tr>\n",
       "  </thead>\n",
       "  <tbody>\n",
       "    <tr>\n",
       "      <th>0</th>\n",
       "      <td>159387072</td>\n",
       "      <td>18413330.0</td>\n",
       "      <td>0.0</td>\n",
       "    </tr>\n",
       "    <tr>\n",
       "      <th>1</th>\n",
       "      <td>159387072</td>\n",
       "      <td>1803833.0</td>\n",
       "      <td>0.0</td>\n",
       "    </tr>\n",
       "    <tr>\n",
       "      <th>2</th>\n",
       "      <td>159387072</td>\n",
       "      <td>1440082.0</td>\n",
       "      <td>0.0</td>\n",
       "    </tr>\n",
       "    <tr>\n",
       "      <th>3</th>\n",
       "      <td>159387072</td>\n",
       "      <td>1444093.0</td>\n",
       "      <td>0.0</td>\n",
       "    </tr>\n",
       "    <tr>\n",
       "      <th>4</th>\n",
       "      <td>159387072</td>\n",
       "      <td>15669212.0</td>\n",
       "      <td>0.0</td>\n",
       "    </tr>\n",
       "    <tr>\n",
       "      <th>5</th>\n",
       "      <td>159387072</td>\n",
       "      <td>9483812.0</td>\n",
       "      <td>0.0</td>\n",
       "    </tr>\n",
       "    <tr>\n",
       "      <th>6</th>\n",
       "      <td>159387072</td>\n",
       "      <td>1658101.0</td>\n",
       "      <td>0.0</td>\n",
       "    </tr>\n",
       "    <tr>\n",
       "      <th>7</th>\n",
       "      <td>159387072</td>\n",
       "      <td>11495032.0</td>\n",
       "      <td>0.0</td>\n",
       "    </tr>\n",
       "    <tr>\n",
       "      <th>8</th>\n",
       "      <td>159387072</td>\n",
       "      <td>20286545.0</td>\n",
       "      <td>0.0</td>\n",
       "    </tr>\n",
       "    <tr>\n",
       "      <th>9</th>\n",
       "      <td>159387072</td>\n",
       "      <td>19881805.0</td>\n",
       "      <td>0.0</td>\n",
       "    </tr>\n",
       "  </tbody>\n",
       "</table>\n",
       "</div>"
      ],
      "text/plain": [
       "     users_A      groups  scores\n",
       "0  159387072  18413330.0     0.0\n",
       "1  159387072   1803833.0     0.0\n",
       "2  159387072   1440082.0     0.0\n",
       "3  159387072   1444093.0     0.0\n",
       "4  159387072  15669212.0     0.0\n",
       "5  159387072   9483812.0     0.0\n",
       "6  159387072   1658101.0     0.0\n",
       "7  159387072  11495032.0     0.0\n",
       "8  159387072  20286545.0     0.0\n",
       "9  159387072  19881805.0     0.0"
      ]
     },
     "execution_count": 67,
     "metadata": {},
     "output_type": "execute_result"
    }
   ],
   "source": [
    "final_df = pd.DataFrame(final_result, columns = ['users_A', 'groups','scores']) \n",
    "final_df"
   ]
  },
  {
   "cell_type": "code",
   "execution_count": 68,
   "metadata": {},
   "outputs": [
    {
     "data": {
      "text/html": [
       "<div>\n",
       "<style scoped>\n",
       "    .dataframe tbody tr th:only-of-type {\n",
       "        vertical-align: middle;\n",
       "    }\n",
       "\n",
       "    .dataframe tbody tr th {\n",
       "        vertical-align: top;\n",
       "    }\n",
       "\n",
       "    .dataframe thead th {\n",
       "        text-align: right;\n",
       "    }\n",
       "</style>\n",
       "<table border=\"1\" class=\"dataframe\">\n",
       "  <thead>\n",
       "    <tr style=\"text-align: right;\">\n",
       "      <th>groups</th>\n",
       "      <th>1440082.0</th>\n",
       "      <th>1444093.0</th>\n",
       "      <th>1658101.0</th>\n",
       "      <th>1803833.0</th>\n",
       "      <th>9483812.0</th>\n",
       "      <th>11495032.0</th>\n",
       "      <th>15669212.0</th>\n",
       "      <th>18413330.0</th>\n",
       "      <th>19881805.0</th>\n",
       "      <th>20286545.0</th>\n",
       "    </tr>\n",
       "    <tr>\n",
       "      <th>users_A</th>\n",
       "      <th></th>\n",
       "      <th></th>\n",
       "      <th></th>\n",
       "      <th></th>\n",
       "      <th></th>\n",
       "      <th></th>\n",
       "      <th></th>\n",
       "      <th></th>\n",
       "      <th></th>\n",
       "      <th></th>\n",
       "    </tr>\n",
       "  </thead>\n",
       "  <tbody>\n",
       "    <tr>\n",
       "      <th>159387072</th>\n",
       "      <td>0.0</td>\n",
       "      <td>0.0</td>\n",
       "      <td>0.0</td>\n",
       "      <td>0.0</td>\n",
       "      <td>0.0</td>\n",
       "      <td>0.0</td>\n",
       "      <td>0.0</td>\n",
       "      <td>0.0</td>\n",
       "      <td>0.0</td>\n",
       "      <td>0.0</td>\n",
       "    </tr>\n",
       "  </tbody>\n",
       "</table>\n",
       "</div>"
      ],
      "text/plain": [
       "groups     1440082.0   1444093.0   1658101.0   1803833.0   9483812.0   \\\n",
       "users_A                                                                 \n",
       "159387072         0.0         0.0         0.0         0.0         0.0   \n",
       "\n",
       "groups     11495032.0  15669212.0  18413330.0  19881805.0  20286545.0  \n",
       "users_A                                                                \n",
       "159387072         0.0         0.0         0.0         0.0         0.0  "
      ]
     },
     "execution_count": 68,
     "metadata": {},
     "output_type": "execute_result"
    }
   ],
   "source": [
    "df = final_df.pivot_table(index=['users_A'], columns=['groups'], values = 'scores').fillna(0)\n",
    "df"
   ]
  },
  {
   "cell_type": "markdown",
   "metadata": {},
   "source": [
    "<b> Converting all needed data to JSON"
   ]
  },
  {
   "cell_type": "code",
   "execution_count": 69,
   "metadata": {},
   "outputs": [],
   "source": [
    "# pivot_ui(df,rows=['users_A'], cols=['groups'],outfile_path=\"./data_json/selected_user_groups_pivot.html\")"
   ]
  },
  {
   "cell_type": "code",
   "execution_count": 70,
   "metadata": {},
   "outputs": [
    {
     "data": {
      "text/plain": [
       "[9280932, 159387072, 43256742, 211591350, 39868862]"
      ]
     },
     "execution_count": 70,
     "metadata": {},
     "output_type": "execute_result"
    }
   ],
   "source": [
    "user_list"
   ]
  },
  {
   "cell_type": "code",
   "execution_count": 71,
   "metadata": {},
   "outputs": [],
   "source": [
    "user_val = user_value_selected"
   ]
  },
  {
   "cell_type": "code",
   "execution_count": 72,
   "metadata": {},
   "outputs": [],
   "source": [
    "select_memebrs = pd.read_csv(\"members.csv\", encoding = \"Latin-1\")\n",
    "filter_m = select_memebrs['member_id'] == user_val\n",
    "select_memebrs.where(filter_m,inplace=True)\n",
    "select_memebrs = select_memebrs.dropna()\n",
    "select_memebrs = select_memebrs[['member_id', 'group_id']]"
   ]
  },
  {
   "cell_type": "code",
   "execution_count": 73,
   "metadata": {},
   "outputs": [],
   "source": [
    "# select_memebrs"
   ]
  },
  {
   "cell_type": "code",
   "execution_count": 74,
   "metadata": {},
   "outputs": [],
   "source": [
    "select_memebrs2 = pd.read_csv(\"groups.csv\", encoding = \"Latin-1\")\n",
    "merge_tot = pd.merge(select_memebrs,select_memebrs2,on='group_id')\n",
    "merge_tot = merge_tot[['member_id', 'group_id','category_id']]"
   ]
  },
  {
   "cell_type": "code",
   "execution_count": 75,
   "metadata": {},
   "outputs": [],
   "source": [
    "# merge_tot"
   ]
  },
  {
   "cell_type": "code",
   "execution_count": 76,
   "metadata": {},
   "outputs": [],
   "source": [
    "group_fetch = final_df['groups'].to_list()"
   ]
  },
  {
   "cell_type": "code",
   "execution_count": 77,
   "metadata": {},
   "outputs": [],
   "source": [
    "select_memebrs3 = pd.read_csv(\"groups.csv\", encoding = \"Latin-1\")\n",
    "filter_m3 = select_memebrs3['group_id'].isin(group_fetch)\n",
    "select_memebrs3.where(filter_m3,inplace=True)\n",
    "select_memebrs3 = select_memebrs3.dropna()\n",
    "select_memebrs3 = select_memebrs3[['group_id','category_id']]"
   ]
  },
  {
   "cell_type": "code",
   "execution_count": 78,
   "metadata": {},
   "outputs": [
    {
     "data": {
      "text/html": [
       "<div>\n",
       "<style scoped>\n",
       "    .dataframe tbody tr th:only-of-type {\n",
       "        vertical-align: middle;\n",
       "    }\n",
       "\n",
       "    .dataframe tbody tr th {\n",
       "        vertical-align: top;\n",
       "    }\n",
       "\n",
       "    .dataframe thead th {\n",
       "        text-align: right;\n",
       "    }\n",
       "</style>\n",
       "<table border=\"1\" class=\"dataframe\">\n",
       "  <thead>\n",
       "    <tr style=\"text-align: right;\">\n",
       "      <th></th>\n",
       "      <th>group_id</th>\n",
       "      <th>category_id</th>\n",
       "    </tr>\n",
       "  </thead>\n",
       "  <tbody>\n",
       "    <tr>\n",
       "      <th>1452</th>\n",
       "      <td>1440082.0</td>\n",
       "      <td>31.0</td>\n",
       "    </tr>\n",
       "    <tr>\n",
       "      <th>1457</th>\n",
       "      <td>1444093.0</td>\n",
       "      <td>21.0</td>\n",
       "    </tr>\n",
       "    <tr>\n",
       "      <th>2026</th>\n",
       "      <td>1658101.0</td>\n",
       "      <td>2.0</td>\n",
       "    </tr>\n",
       "    <tr>\n",
       "      <th>2521</th>\n",
       "      <td>1803833.0</td>\n",
       "      <td>21.0</td>\n",
       "    </tr>\n",
       "    <tr>\n",
       "      <th>4695</th>\n",
       "      <td>9483812.0</td>\n",
       "      <td>31.0</td>\n",
       "    </tr>\n",
       "    <tr>\n",
       "      <th>5162</th>\n",
       "      <td>11495032.0</td>\n",
       "      <td>21.0</td>\n",
       "    </tr>\n",
       "    <tr>\n",
       "      <th>5974</th>\n",
       "      <td>15669212.0</td>\n",
       "      <td>31.0</td>\n",
       "    </tr>\n",
       "    <tr>\n",
       "      <th>6926</th>\n",
       "      <td>18413330.0</td>\n",
       "      <td>12.0</td>\n",
       "    </tr>\n",
       "    <tr>\n",
       "      <th>9566</th>\n",
       "      <td>19881805.0</td>\n",
       "      <td>21.0</td>\n",
       "    </tr>\n",
       "    <tr>\n",
       "      <th>10306</th>\n",
       "      <td>20286545.0</td>\n",
       "      <td>10.0</td>\n",
       "    </tr>\n",
       "  </tbody>\n",
       "</table>\n",
       "</div>"
      ],
      "text/plain": [
       "         group_id  category_id\n",
       "1452    1440082.0         31.0\n",
       "1457    1444093.0         21.0\n",
       "2026    1658101.0          2.0\n",
       "2521    1803833.0         21.0\n",
       "4695    9483812.0         31.0\n",
       "5162   11495032.0         21.0\n",
       "5974   15669212.0         31.0\n",
       "6926   18413330.0         12.0\n",
       "9566   19881805.0         21.0\n",
       "10306  20286545.0         10.0"
      ]
     },
     "execution_count": 78,
     "metadata": {},
     "output_type": "execute_result"
    }
   ],
   "source": [
    "select_memebrs3"
   ]
  },
  {
   "cell_type": "code",
   "execution_count": 79,
   "metadata": {},
   "outputs": [],
   "source": [
    "class_names = select_memebrs3['category_id'].to_list()\n",
    "class_names = set(class_names)\n",
    "class_names = list(class_names)"
   ]
  },
  {
   "cell_type": "code",
   "execution_count": 123,
   "metadata": {},
   "outputs": [],
   "source": [
    "actual = [1,1,1,1,1]\n",
    "\n",
    "actual2 = [\n",
    "    [1,1,1,1,1],\n",
    "    [1,1,1,1,1],\n",
    "    [1,1,1,1,1],\n",
    "    [1,1,1,1,1],\n",
    "    [1,1,1,1,1],\n",
    "    [1,1,1,1,1],\n",
    "    [1,1,1,1,1],\n",
    "    [1,1,1,1,1],\n",
    "    [1,1,1,1,1],\n",
    "    [1,1,1,1,1],\n",
    "    [1,1,1,1,1],\n",
    "    [1,1,1,1,1],\n",
    "    [1,1,1,1,1],\n",
    "    [1,1,1,1,1],\n",
    "    [1,1,1,1,1],\n",
    "    [1,1,1,1,1],\n",
    "    [1,1,1,1,1],\n",
    "    [1,1,1,1,1],\n",
    "    [1,1,1,1,1],\n",
    "    [1,1,1,1,1]]\n",
    "\n",
    "pred_list = [\n",
    "    [0,0,0,0,1],\n",
    "    [0,0,0,0,1],\n",
    "    [0,0,1,1,1],\n",
    "    [0,0,0,0,1],\n",
    "    [0,0,0,1,1],\n",
    "    [1,1,0,0,0],\n",
    "    [0,0,1,1,1],\n",
    "    [1,0,1,1,0],\n",
    "    [1,1,0,0,1],\n",
    "    [1,0,1,1,1], # ---\n",
    "    [0,0,0,0,1],\n",
    "    [1,0,0,1,0],\n",
    "    [0,0,1,1,1],\n",
    "    [1,1,1,0,0],\n",
    "    [1,1,1,0,0],\n",
    "    [0,0,0,1,1],\n",
    "    [1,0,1,1,1],\n",
    "    [0,0,0,0,1],\n",
    "    [1,1,0,0,1],\n",
    "    [1,0,1,1,1]]"
   ]
  },
  {
   "cell_type": "code",
   "execution_count": 124,
   "metadata": {},
   "outputs": [],
   "source": [
    "from sklearn.metrics import confusion_matrix\n",
    "from sklearn.utils.multiclass import unique_labels\n",
    "from pandas_ml import ConfusionMatrix\n",
    "from sklearn.metrics import confusion_matrix, precision_score, recall_score, f1_score\n",
    "from collections import defaultdict"
   ]
  },
  {
   "cell_type": "code",
   "execution_count": 125,
   "metadata": {},
   "outputs": [],
   "source": [
    "resources = defaultdict(list)"
   ]
  },
  {
   "cell_type": "code",
   "execution_count": 126,
   "metadata": {},
   "outputs": [],
   "source": [
    "def evaluate(actual, pred):\n",
    "    true = actual\n",
    "    pred = pred\n",
    "\n",
    "    tn, fp, fn, tp = confusion_matrix(true, pred).ravel()\n",
    "    p = precision_score(true, pred)\n",
    "    r = recall_score(true, pred)\n",
    "    \n",
    "    f1 = (2*p*r)/(p+r)\n",
    "    return tn, fp, fn, tp, p ,r , f1"
   ]
  },
  {
   "cell_type": "code",
   "execution_count": 127,
   "metadata": {},
   "outputs": [
    {
     "name": "stdout",
     "output_type": "stream",
     "text": [
      "0 0 4 1 1.0 0.2 0.33333333333333337\n",
      "0 0 4 1 1.0 0.2 0.33333333333333337\n",
      "0 0 2 3 1.0 0.6 0.7499999999999999\n",
      "0 0 4 1 1.0 0.2 0.33333333333333337\n",
      "0 0 3 2 1.0 0.4 0.5714285714285715\n",
      "0 0 3 2 1.0 0.4 0.5714285714285715\n",
      "0 0 2 3 1.0 0.6 0.7499999999999999\n",
      "0 0 2 3 1.0 0.6 0.7499999999999999\n",
      "0 0 2 3 1.0 0.6 0.7499999999999999\n",
      "0 0 1 4 1.0 0.8 0.888888888888889\n",
      "0 0 4 1 1.0 0.2 0.33333333333333337\n",
      "0 0 3 2 1.0 0.4 0.5714285714285715\n",
      "0 0 2 3 1.0 0.6 0.7499999999999999\n",
      "0 0 2 3 1.0 0.6 0.7499999999999999\n",
      "0 0 2 3 1.0 0.6 0.7499999999999999\n",
      "0 0 3 2 1.0 0.4 0.5714285714285715\n",
      "0 0 1 4 1.0 0.8 0.888888888888889\n",
      "0 0 4 1 1.0 0.2 0.33333333333333337\n",
      "0 0 2 3 1.0 0.6 0.7499999999999999\n",
      "0 0 1 4 1.0 0.8 0.888888888888889\n"
     ]
    },
    {
     "name": "stderr",
     "output_type": "stream",
     "text": [
      "C:\\Users\\tusha\\Anaconda3\\lib\\site-packages\\ipykernel_launcher.py:23: RuntimeWarning: divide by zero encountered in longlong_scalars\n"
     ]
    }
   ],
   "source": [
    "precision = []\n",
    "recall = []\n",
    "f1_score = []\n",
    "accuracy = []\n",
    "fp_rate = []\n",
    "TPR =[] \n",
    "tn_l = []\n",
    "fp_l = []\n",
    "fn_l = []\n",
    "tp_l = []\n",
    "for i in range(0,len(pred_list)):\n",
    "    tn, fp, fn, tp, p ,r , f1 = evaluate(actual, pred_list[i])\n",
    "    tn_l.append(tn)\n",
    "    fp_l.append(fp)\n",
    "    fn_l.append(fn)\n",
    "    tp_l.append(tp)\n",
    "    \n",
    "    precision.append(p)\n",
    "    recall.append(r)\n",
    "    f1_score.append(f1)\n",
    "    acc = (tp+tn)/(tp+tn+fp+fn)\n",
    "    accuracy.append(acc)\n",
    "    FP_RATE = fp // (fp+tn)\n",
    "    tpr = tp//(tp+fn)\n",
    "    TPR.append(tpr)\n",
    "    fp_rate.append(FP_RATE)\n",
    "    print(tn, fp, fn, tp, p ,r , f1)"
   ]
  },
  {
   "cell_type": "code",
   "execution_count": 128,
   "metadata": {},
   "outputs": [
    {
     "name": "stdout",
     "output_type": "stream",
     "text": [
      "[0, 0, 0, 0, 0, 0, 0, 0, 0, 0, 0, 0, 0, 0, 0, 0, 0, 0, 0, 0]\n",
      "[0, 0, 0, 0, 0, 0, 0, 0, 0, 0, 0, 0, 0, 0, 0, 0, 0, 0, 0, 0]\n",
      "[4, 4, 2, 4, 3, 3, 2, 2, 2, 1, 4, 3, 2, 2, 2, 3, 1, 4, 2, 1]\n",
      "[1, 1, 3, 1, 2, 2, 3, 3, 3, 4, 1, 2, 3, 3, 3, 2, 4, 1, 3, 4]\n"
     ]
    }
   ],
   "source": [
    "print(tn_l)\n",
    "print(fp_l)\n",
    "print(fn_l)\n",
    "print(tp_l)"
   ]
  },
  {
   "cell_type": "code",
   "execution_count": 129,
   "metadata": {},
   "outputs": [],
   "source": [
    "tn_mean = np.mean(tn_l)\n",
    "fp_mean = np.mean(fp_l)\n",
    "fn_mean = np.mean(fn_l)\n",
    "tp_mean = np.mean(tp_l)"
   ]
  },
  {
   "cell_type": "code",
   "execution_count": 130,
   "metadata": {},
   "outputs": [],
   "source": [
    "TPR_new = tp_mean / (tp_mean+fn_mean)"
   ]
  },
  {
   "cell_type": "code",
   "execution_count": 131,
   "metadata": {},
   "outputs": [
    {
     "data": {
      "text/plain": [
       "0.49000000000000005"
      ]
     },
     "execution_count": 131,
     "metadata": {},
     "output_type": "execute_result"
    }
   ],
   "source": [
    "TPR_new"
   ]
  },
  {
   "cell_type": "code",
   "execution_count": 132,
   "metadata": {},
   "outputs": [],
   "source": [
    "FPR_new = 1 - TPR_new"
   ]
  },
  {
   "cell_type": "code",
   "execution_count": 133,
   "metadata": {},
   "outputs": [
    {
     "data": {
      "text/plain": [
       "0.51"
      ]
     },
     "execution_count": 133,
     "metadata": {},
     "output_type": "execute_result"
    }
   ],
   "source": [
    "FPR_new"
   ]
  },
  {
   "cell_type": "code",
   "execution_count": 134,
   "metadata": {},
   "outputs": [],
   "source": [
    "# from sklearn.metrics import roc_curve, auc\n",
    "# roc_auc = auc(fpr, tpr)"
   ]
  },
  {
   "cell_type": "code",
   "execution_count": 135,
   "metadata": {},
   "outputs": [],
   "source": [
    "# fpr, tpr, threshold = metrics.roc_curve(actual, pred_list, pos_label=0)\n",
    "# roc_auc = metrics.auc(fpr, tpr)\n",
    "# print(roc_auc)"
   ]
  },
  {
   "cell_type": "code",
   "execution_count": 136,
   "metadata": {},
   "outputs": [
    {
     "data": {
      "text/html": [
       "<div>\n",
       "<style scoped>\n",
       "    .dataframe tbody tr th:only-of-type {\n",
       "        vertical-align: middle;\n",
       "    }\n",
       "\n",
       "    .dataframe tbody tr th {\n",
       "        vertical-align: top;\n",
       "    }\n",
       "\n",
       "    .dataframe thead th {\n",
       "        text-align: right;\n",
       "    }\n",
       "</style>\n",
       "<table border=\"1\" class=\"dataframe\">\n",
       "  <thead>\n",
       "    <tr style=\"text-align: right;\">\n",
       "      <th>category_id</th>\n",
       "      <th>1</th>\n",
       "      <th>2</th>\n",
       "      <th>3</th>\n",
       "      <th>4</th>\n",
       "      <th>5</th>\n",
       "      <th>6</th>\n",
       "      <th>8</th>\n",
       "      <th>9</th>\n",
       "      <th>10</th>\n",
       "      <th>11</th>\n",
       "      <th>...</th>\n",
       "      <th>26</th>\n",
       "      <th>27</th>\n",
       "      <th>28</th>\n",
       "      <th>29</th>\n",
       "      <th>30</th>\n",
       "      <th>31</th>\n",
       "      <th>32</th>\n",
       "      <th>33</th>\n",
       "      <th>34</th>\n",
       "      <th>36</th>\n",
       "    </tr>\n",
       "    <tr>\n",
       "      <th>member_id</th>\n",
       "      <th></th>\n",
       "      <th></th>\n",
       "      <th></th>\n",
       "      <th></th>\n",
       "      <th></th>\n",
       "      <th></th>\n",
       "      <th></th>\n",
       "      <th></th>\n",
       "      <th></th>\n",
       "      <th></th>\n",
       "      <th></th>\n",
       "      <th></th>\n",
       "      <th></th>\n",
       "      <th></th>\n",
       "      <th></th>\n",
       "      <th></th>\n",
       "      <th></th>\n",
       "      <th></th>\n",
       "      <th></th>\n",
       "      <th></th>\n",
       "      <th></th>\n",
       "    </tr>\n",
       "  </thead>\n",
       "  <tbody>\n",
       "    <tr>\n",
       "      <th>159387072</th>\n",
       "      <td>0.0</td>\n",
       "      <td>1.0</td>\n",
       "      <td>0.0</td>\n",
       "      <td>0.0</td>\n",
       "      <td>0.0</td>\n",
       "      <td>0.0</td>\n",
       "      <td>0.0</td>\n",
       "      <td>0.0</td>\n",
       "      <td>0.0</td>\n",
       "      <td>0.0</td>\n",
       "      <td>...</td>\n",
       "      <td>0.0</td>\n",
       "      <td>0.0</td>\n",
       "      <td>0.0</td>\n",
       "      <td>0.0</td>\n",
       "      <td>0.0</td>\n",
       "      <td>1.0</td>\n",
       "      <td>0.0</td>\n",
       "      <td>0.0</td>\n",
       "      <td>0.0</td>\n",
       "      <td>0.0</td>\n",
       "    </tr>\n",
       "  </tbody>\n",
       "</table>\n",
       "<p>1 rows × 32 columns</p>\n",
       "</div>"
      ],
      "text/plain": [
       "category_id   1    2    3    4    5    6    8    9    10   11  ...   26   27  \\\n",
       "member_id                                                      ...             \n",
       "159387072    0.0  1.0  0.0  0.0  0.0  0.0  0.0  0.0  0.0  0.0  ...  0.0  0.0   \n",
       "\n",
       "category_id   28   29   30   31   32   33   34   36  \n",
       "member_id                                            \n",
       "159387072    0.0  0.0  0.0  1.0  0.0  0.0  0.0  0.0  \n",
       "\n",
       "[1 rows x 32 columns]"
      ]
     },
     "execution_count": 136,
     "metadata": {},
     "output_type": "execute_result"
    }
   ],
   "source": [
    "t_user_val"
   ]
  },
  {
   "cell_type": "code",
   "execution_count": 137,
   "metadata": {},
   "outputs": [],
   "source": [
    "# roc_auc"
   ]
  },
  {
   "cell_type": "code",
   "execution_count": 138,
   "metadata": {},
   "outputs": [
    {
     "name": "stdout",
     "output_type": "stream",
     "text": [
      "0 0 1 4 1.0 0.8 0.888888888888889\n"
     ]
    }
   ],
   "source": [
    "print(tn, fp, fn, tp, p ,r , f1)"
   ]
  },
  {
   "cell_type": "code",
   "execution_count": 139,
   "metadata": {},
   "outputs": [],
   "source": [
    "import numpy as np"
   ]
  },
  {
   "cell_type": "code",
   "execution_count": 140,
   "metadata": {},
   "outputs": [],
   "source": [
    "precision_mean = np.mean(precision)"
   ]
  },
  {
   "cell_type": "code",
   "execution_count": 141,
   "metadata": {},
   "outputs": [
    {
     "data": {
      "text/plain": [
       "1.0"
      ]
     },
     "execution_count": 141,
     "metadata": {},
     "output_type": "execute_result"
    }
   ],
   "source": [
    "precision_mean"
   ]
  },
  {
   "cell_type": "code",
   "execution_count": 142,
   "metadata": {},
   "outputs": [],
   "source": [
    "recall_mean = np.mean(recall)"
   ]
  },
  {
   "cell_type": "code",
   "execution_count": 143,
   "metadata": {},
   "outputs": [
    {
     "data": {
      "text/plain": [
       "0.49000000000000005"
      ]
     },
     "execution_count": 143,
     "metadata": {},
     "output_type": "execute_result"
    }
   ],
   "source": [
    "recall_mean"
   ]
  },
  {
   "cell_type": "code",
   "execution_count": 144,
   "metadata": {},
   "outputs": [],
   "source": [
    "f1_score_mean = np.mean(f1_score)"
   ]
  },
  {
   "cell_type": "code",
   "execution_count": 145,
   "metadata": {},
   "outputs": [
    {
     "data": {
      "text/plain": [
       "0.6309523809523809"
      ]
     },
     "execution_count": 145,
     "metadata": {},
     "output_type": "execute_result"
    }
   ],
   "source": [
    "f1_score_mean"
   ]
  },
  {
   "cell_type": "code",
   "execution_count": 146,
   "metadata": {},
   "outputs": [],
   "source": [
    "accuracy_mean = np.mean(accuracy)"
   ]
  },
  {
   "cell_type": "code",
   "execution_count": 104,
   "metadata": {},
   "outputs": [
    {
     "data": {
      "text/plain": [
       "0.51"
      ]
     },
     "execution_count": 104,
     "metadata": {},
     "output_type": "execute_result"
    }
   ],
   "source": [
    "accuracy_mean"
   ]
  },
  {
   "cell_type": "code",
   "execution_count": 105,
   "metadata": {},
   "outputs": [],
   "source": [
    "import matplotlib.pyplot as plt"
   ]
  },
  {
   "cell_type": "code",
   "execution_count": 106,
   "metadata": {},
   "outputs": [
    {
     "data": {
      "image/png": "[encoded data removed]",
      "text/plain": [
       "<Figure size 432x288 with 1 Axes>"
      ]
     },
     "metadata": {
      "needs_background": "light"
     },
     "output_type": "display_data"
    }
   ],
   "source": [
    "def plot_roc_curve( FPR_new,TPR_new):\n",
    "\n",
    "    plt.clf()\n",
    "    plt.plot(FPR_new, TPR_new, linewidth=2)\n",
    "    plt.plot([0,1], [0,1], 'k--')\n",
    "    plt.axis([0,1,0,1])\n",
    "    plt.xlabel(\"False Positive Rate\")\n",
    "    plt.ylabel(\"False Negative Rate\")\n",
    "\n",
    "plot_roc_curve(fp_rate, TPR)\n",
    "plt.show()"
   ]
  },
  {
   "cell_type": "code",
   "execution_count": 107,
   "metadata": {},
   "outputs": [],
   "source": [
    "from sklearn.metrics import roc_curve"
   ]
  },
  {
   "cell_type": "code",
   "execution_count": 108,
   "metadata": {},
   "outputs": [],
   "source": [
    "import sklearn.metrics as metrics"
   ]
  },
  {
   "cell_type": "code",
   "execution_count": 109,
   "metadata": {},
   "outputs": [
    {
     "ename": "TypeError",
     "evalue": "Singleton array 0.49 cannot be considered a valid collection.",
     "output_type": "error",
     "traceback": [
      "\u001b[1;31m---------------------------------------------------------------------------\u001b[0m",
      "\u001b[1;31mTypeError\u001b[0m                                 Traceback (most recent call last)",
      "\u001b[1;32m<ipython-input-109-adcc38776a59>\u001b[0m in \u001b[0;36m<module>\u001b[1;34m\u001b[0m\n\u001b[1;32m----> 1\u001b[1;33m \u001b[0mroc_auc\u001b[0m \u001b[1;33m=\u001b[0m \u001b[0mmetrics\u001b[0m\u001b[1;33m.\u001b[0m\u001b[0mauc\u001b[0m\u001b[1;33m(\u001b[0m\u001b[0mFPR_new\u001b[0m\u001b[1;33m,\u001b[0m \u001b[0mTPR_new\u001b[0m\u001b[1;33m)\u001b[0m\u001b[1;33m\u001b[0m\u001b[1;33m\u001b[0m\u001b[0m\n\u001b[0m",
      "\u001b[1;32m~\\Anaconda3\\lib\\site-packages\\sklearn\\metrics\\ranking.py\u001b[0m in \u001b[0;36mauc\u001b[1;34m(x, y, reorder)\u001b[0m\n\u001b[0;32m     89\u001b[0m         \u001b[0mCompute\u001b[0m \u001b[0mprecision\u001b[0m\u001b[1;33m-\u001b[0m\u001b[0mrecall\u001b[0m \u001b[0mpairs\u001b[0m \u001b[1;32mfor\u001b[0m \u001b[0mdifferent\u001b[0m \u001b[0mprobability\u001b[0m \u001b[0mthresholds\u001b[0m\u001b[1;33m\u001b[0m\u001b[1;33m\u001b[0m\u001b[0m\n\u001b[0;32m     90\u001b[0m     \"\"\"\n\u001b[1;32m---> 91\u001b[1;33m     \u001b[0mcheck_consistent_length\u001b[0m\u001b[1;33m(\u001b[0m\u001b[0mx\u001b[0m\u001b[1;33m,\u001b[0m \u001b[0my\u001b[0m\u001b[1;33m)\u001b[0m\u001b[1;33m\u001b[0m\u001b[1;33m\u001b[0m\u001b[0m\n\u001b[0m\u001b[0;32m     92\u001b[0m     \u001b[0mx\u001b[0m \u001b[1;33m=\u001b[0m \u001b[0mcolumn_or_1d\u001b[0m\u001b[1;33m(\u001b[0m\u001b[0mx\u001b[0m\u001b[1;33m)\u001b[0m\u001b[1;33m\u001b[0m\u001b[1;33m\u001b[0m\u001b[0m\n\u001b[0;32m     93\u001b[0m     \u001b[0my\u001b[0m \u001b[1;33m=\u001b[0m \u001b[0mcolumn_or_1d\u001b[0m\u001b[1;33m(\u001b[0m\u001b[0my\u001b[0m\u001b[1;33m)\u001b[0m\u001b[1;33m\u001b[0m\u001b[1;33m\u001b[0m\u001b[0m\n",
      "\u001b[1;32m~\\Anaconda3\\lib\\site-packages\\sklearn\\utils\\validation.py\u001b[0m in \u001b[0;36mcheck_consistent_length\u001b[1;34m(*arrays)\u001b[0m\n\u001b[0;32m    229\u001b[0m     \"\"\"\n\u001b[0;32m    230\u001b[0m \u001b[1;33m\u001b[0m\u001b[0m\n\u001b[1;32m--> 231\u001b[1;33m     \u001b[0mlengths\u001b[0m \u001b[1;33m=\u001b[0m \u001b[1;33m[\u001b[0m\u001b[0m_num_samples\u001b[0m\u001b[1;33m(\u001b[0m\u001b[0mX\u001b[0m\u001b[1;33m)\u001b[0m \u001b[1;32mfor\u001b[0m \u001b[0mX\u001b[0m \u001b[1;32min\u001b[0m \u001b[0marrays\u001b[0m \u001b[1;32mif\u001b[0m \u001b[0mX\u001b[0m \u001b[1;32mis\u001b[0m \u001b[1;32mnot\u001b[0m \u001b[1;32mNone\u001b[0m\u001b[1;33m]\u001b[0m\u001b[1;33m\u001b[0m\u001b[1;33m\u001b[0m\u001b[0m\n\u001b[0m\u001b[0;32m    232\u001b[0m     \u001b[0muniques\u001b[0m \u001b[1;33m=\u001b[0m \u001b[0mnp\u001b[0m\u001b[1;33m.\u001b[0m\u001b[0munique\u001b[0m\u001b[1;33m(\u001b[0m\u001b[0mlengths\u001b[0m\u001b[1;33m)\u001b[0m\u001b[1;33m\u001b[0m\u001b[1;33m\u001b[0m\u001b[0m\n\u001b[0;32m    233\u001b[0m     \u001b[1;32mif\u001b[0m \u001b[0mlen\u001b[0m\u001b[1;33m(\u001b[0m\u001b[0muniques\u001b[0m\u001b[1;33m)\u001b[0m \u001b[1;33m>\u001b[0m \u001b[1;36m1\u001b[0m\u001b[1;33m:\u001b[0m\u001b[1;33m\u001b[0m\u001b[1;33m\u001b[0m\u001b[0m\n",
      "\u001b[1;32m~\\Anaconda3\\lib\\site-packages\\sklearn\\utils\\validation.py\u001b[0m in \u001b[0;36m<listcomp>\u001b[1;34m(.0)\u001b[0m\n\u001b[0;32m    229\u001b[0m     \"\"\"\n\u001b[0;32m    230\u001b[0m \u001b[1;33m\u001b[0m\u001b[0m\n\u001b[1;32m--> 231\u001b[1;33m     \u001b[0mlengths\u001b[0m \u001b[1;33m=\u001b[0m \u001b[1;33m[\u001b[0m\u001b[0m_num_samples\u001b[0m\u001b[1;33m(\u001b[0m\u001b[0mX\u001b[0m\u001b[1;33m)\u001b[0m \u001b[1;32mfor\u001b[0m \u001b[0mX\u001b[0m \u001b[1;32min\u001b[0m \u001b[0marrays\u001b[0m \u001b[1;32mif\u001b[0m \u001b[0mX\u001b[0m \u001b[1;32mis\u001b[0m \u001b[1;32mnot\u001b[0m \u001b[1;32mNone\u001b[0m\u001b[1;33m]\u001b[0m\u001b[1;33m\u001b[0m\u001b[1;33m\u001b[0m\u001b[0m\n\u001b[0m\u001b[0;32m    232\u001b[0m     \u001b[0muniques\u001b[0m \u001b[1;33m=\u001b[0m \u001b[0mnp\u001b[0m\u001b[1;33m.\u001b[0m\u001b[0munique\u001b[0m\u001b[1;33m(\u001b[0m\u001b[0mlengths\u001b[0m\u001b[1;33m)\u001b[0m\u001b[1;33m\u001b[0m\u001b[1;33m\u001b[0m\u001b[0m\n\u001b[0;32m    233\u001b[0m     \u001b[1;32mif\u001b[0m \u001b[0mlen\u001b[0m\u001b[1;33m(\u001b[0m\u001b[0muniques\u001b[0m\u001b[1;33m)\u001b[0m \u001b[1;33m>\u001b[0m \u001b[1;36m1\u001b[0m\u001b[1;33m:\u001b[0m\u001b[1;33m\u001b[0m\u001b[1;33m\u001b[0m\u001b[0m\n",
      "\u001b[1;32m~\\Anaconda3\\lib\\site-packages\\sklearn\\utils\\validation.py\u001b[0m in \u001b[0;36m_num_samples\u001b[1;34m(x)\u001b[0m\n\u001b[0;32m    140\u001b[0m         \u001b[1;32mif\u001b[0m \u001b[0mlen\u001b[0m\u001b[1;33m(\u001b[0m\u001b[0mx\u001b[0m\u001b[1;33m.\u001b[0m\u001b[0mshape\u001b[0m\u001b[1;33m)\u001b[0m \u001b[1;33m==\u001b[0m \u001b[1;36m0\u001b[0m\u001b[1;33m:\u001b[0m\u001b[1;33m\u001b[0m\u001b[1;33m\u001b[0m\u001b[0m\n\u001b[0;32m    141\u001b[0m             raise TypeError(\"Singleton array %r cannot be considered\"\n\u001b[1;32m--> 142\u001b[1;33m                             \" a valid collection.\" % x)\n\u001b[0m\u001b[0;32m    143\u001b[0m         \u001b[1;31m# Check that shape is returning an integer or default to len\u001b[0m\u001b[1;33m\u001b[0m\u001b[1;33m\u001b[0m\u001b[1;33m\u001b[0m\u001b[0m\n\u001b[0;32m    144\u001b[0m         \u001b[1;31m# Dask dataframes may not return numeric shape[0] value\u001b[0m\u001b[1;33m\u001b[0m\u001b[1;33m\u001b[0m\u001b[1;33m\u001b[0m\u001b[0m\n",
      "\u001b[1;31mTypeError\u001b[0m: Singleton array 0.49 cannot be considered a valid collection."
     ]
    }
   ],
   "source": [
    "roc_auc = metrics.auc(FPR_new, TPR_new)"
   ]
  },
  {
   "cell_type": "code",
   "execution_count": null,
   "metadata": {},
   "outputs": [],
   "source": [
    "roc_auc"
   ]
  },
  {
   "cell_type": "code",
   "execution_count": null,
   "metadata": {},
   "outputs": [],
   "source": [
    "from sklearn.metrics import roc_curve, auc\n",
    "# fpr, tpr, thresholds = roc_curve(actual, pred_list)\n",
    "fpr = FPR_new\n",
    "tpr = TPR_new\n",
    "roc_auc = auc(fpr, tpr)\n",
    "print(roc_auc)\n",
    "plt.figure()\n",
    "plt.plot(fpr, tpr, color='darkorange', lw=1, label='ROC curve (area = %0.2f)' % 50)\n",
    "# plt.plot([0, 1], [0, 1], color='navy', lw=lw, linestyle='--')\n",
    "plt.xlim([0.0, 1.0])\n",
    "plt.ylim([0.0, 1.05])\n",
    "plt.xlabel('False Positive Rate')\n",
    "plt.ylabel('True Positive Rate')\n",
    "plt.title('Receiver operating characteristic')\n",
    "plt.legend(loc=\"lower right\")\n",
    "plt.show()"
   ]
  },
  {
   "cell_type": "code",
   "execution_count": null,
   "metadata": {},
   "outputs": [],
   "source": [
    "FPR_new"
   ]
  },
  {
   "cell_type": "code",
   "execution_count": null,
   "metadata": {},
   "outputs": [],
   "source": [
    "import matplotlib.pyplot as plt\n",
    "plt.plot(FPR_new, TPR_new,'r-',label = 'Precision-Recall')\n",
    "plt.plot([0,0,1,1],[0,1,1,1],'g-',label='perfect')\n",
    "plt.legend()\n",
    "plt.xlabel('False Positive Rate')\n",
    "plt.ylabel('True Positive Rate')\n",
    "plt.show()"
   ]
  },
  {
   "cell_type": "code",
   "execution_count": null,
   "metadata": {},
   "outputs": [],
   "source": [
    "# confusion_matrix = pd.crosstab(df['y_Actual'], df['y_Predicted'], rownames=['Actual'], colnames=['Predicted'])\n",
    "# print (confusion_matrix)"
   ]
  },
  {
   "cell_type": "code",
   "execution_count": null,
   "metadata": {},
   "outputs": [],
   "source": [
    "def print_confusion_matrix(y_true, y_pred):\n",
    "    cm = confusion_matrix(y_true, y_pred)\n",
    "    print(\"CM :\",cm[0][1])\n",
    "    FP = cm[0][0]\n",
    "    TN = cm[0][1]\n",
    "    FN = cm[1][0]\n",
    "    TP = cm[1][1]\n",
    "    print('True positive = ', TP)\n",
    "    print('False positive = ', FP)\n",
    "    print('False negative = ', FN)\n",
    "    print('True negative = ', TN)\n",
    "    return TP,FP,FN,TN"
   ]
  },
  {
   "cell_type": "code",
   "execution_count": null,
   "metadata": {},
   "outputs": [],
   "source": [
    "pred= [1,1,1,0,0]"
   ]
  },
  {
   "cell_type": "code",
   "execution_count": null,
   "metadata": {},
   "outputs": [],
   "source": [
    "TP, FP, FN ,TN = print_confusion_matrix(actual, pred)"
   ]
  },
  {
   "cell_type": "code",
   "execution_count": null,
   "metadata": {},
   "outputs": [],
   "source": [
    "a = confusion_matrix(actual,pred)"
   ]
  },
  {
   "cell_type": "code",
   "execution_count": null,
   "metadata": {},
   "outputs": [],
   "source": [
    "a"
   ]
  },
  {
   "cell_type": "code",
   "execution_count": null,
   "metadata": {},
   "outputs": [],
   "source": [
    "import seaborn as sn\n",
    "import matplotlib.pyplot as plt"
   ]
  },
  {
   "cell_type": "code",
   "execution_count": null,
   "metadata": {},
   "outputs": [],
   "source": [
    "# df_cm = pd.DataFrame(confusion_matrix, range(2),\n",
    "#                   range(2))\n",
    "# df_cm.index.name = 'Actual'\n",
    "# df_cm.columns.name = 'Predicted'\n",
    "# plt.figure(figsize = (10,7))\n",
    "# sn.set(font_scale=1.4)#for label size\n",
    "# sn.heatmap(df_cm, annot=True,annot_kws={\"size\": 20})# font size"
   ]
  },
  {
   "cell_type": "code",
   "execution_count": null,
   "metadata": {},
   "outputs": [],
   "source": [
    "print(TP)"
   ]
  },
  {
   "cell_type": "code",
   "execution_count": null,
   "metadata": {},
   "outputs": [],
   "source": [
    "precision = TP / (TP + FP)\n",
    "recall = TP / (TP+FN)\n",
    "F_Score = (2*precision*recall)/(precision+recall)"
   ]
  },
  {
   "cell_type": "code",
   "execution_count": null,
   "metadata": {},
   "outputs": [],
   "source": [
    "precision"
   ]
  },
  {
   "cell_type": "code",
   "execution_count": null,
   "metadata": {},
   "outputs": [],
   "source": [
    "recall"
   ]
  },
  {
   "cell_type": "code",
   "execution_count": null,
   "metadata": {},
   "outputs": [],
   "source": [
    "F_Score"
   ]
  },
  {
   "cell_type": "code",
   "execution_count": null,
   "metadata": {},
   "outputs": [],
   "source": [
    "data = {'Precision':precision,'Recall':recall,'F-Score':F_Score}\n",
    "pd.DataFrame.from_dict(data, orient='index',columns=[ 'Values'])"
   ]
  },
  {
   "cell_type": "code",
   "execution_count": null,
   "metadata": {},
   "outputs": [],
   "source": [
    "inverse_precision = TN / (FN+TN)\n",
    "inverse_recall = TN / (FP+TN)\n",
    "markedness = precision + inverse_precision - 1\n",
    "informedness = recall + inverse_recall - 1"
   ]
  },
  {
   "cell_type": "code",
   "execution_count": null,
   "metadata": {},
   "outputs": [],
   "source": [
    "import math"
   ]
  },
  {
   "cell_type": "code",
   "execution_count": null,
   "metadata": {},
   "outputs": [],
   "source": [
    "a = (TP+FN)"
   ]
  },
  {
   "cell_type": "code",
   "execution_count": null,
   "metadata": {},
   "outputs": [],
   "source": [
    "b = math.sqrt((TP+FN)*(FP+TN)*(TP+FP)*(FN+TN))"
   ]
  },
  {
   "cell_type": "code",
   "execution_count": null,
   "metadata": {},
   "outputs": [],
   "source": [
    "MCC = ((TP*TN) - (FN*FP))//b"
   ]
  },
  {
   "cell_type": "code",
   "execution_count": null,
   "metadata": {},
   "outputs": [],
   "source": [
    "inverse_precision"
   ]
  },
  {
   "cell_type": "code",
   "execution_count": null,
   "metadata": {},
   "outputs": [],
   "source": [
    "inverse_recall"
   ]
  },
  {
   "cell_type": "code",
   "execution_count": null,
   "metadata": {},
   "outputs": [],
   "source": [
    "markedness"
   ]
  },
  {
   "cell_type": "code",
   "execution_count": null,
   "metadata": {},
   "outputs": [],
   "source": [
    "informedness"
   ]
  },
  {
   "cell_type": "code",
   "execution_count": null,
   "metadata": {},
   "outputs": [],
   "source": [
    "MCC"
   ]
  },
  {
   "cell_type": "code",
   "execution_count": 111,
   "metadata": {},
   "outputs": [
    {
     "data": {
      "text/html": [
       "<div>\n",
       "<style scoped>\n",
       "    .dataframe tbody tr th:only-of-type {\n",
       "        vertical-align: middle;\n",
       "    }\n",
       "\n",
       "    .dataframe tbody tr th {\n",
       "        vertical-align: top;\n",
       "    }\n",
       "\n",
       "    .dataframe thead th {\n",
       "        text-align: right;\n",
       "    }\n",
       "</style>\n",
       "<table border=\"1\" class=\"dataframe\">\n",
       "  <thead>\n",
       "    <tr style=\"text-align: right;\">\n",
       "      <th>category_id</th>\n",
       "      <th>1</th>\n",
       "      <th>2</th>\n",
       "      <th>3</th>\n",
       "      <th>4</th>\n",
       "      <th>5</th>\n",
       "      <th>6</th>\n",
       "      <th>8</th>\n",
       "      <th>9</th>\n",
       "      <th>10</th>\n",
       "      <th>11</th>\n",
       "      <th>...</th>\n",
       "      <th>26</th>\n",
       "      <th>27</th>\n",
       "      <th>28</th>\n",
       "      <th>29</th>\n",
       "      <th>30</th>\n",
       "      <th>31</th>\n",
       "      <th>32</th>\n",
       "      <th>33</th>\n",
       "      <th>34</th>\n",
       "      <th>36</th>\n",
       "    </tr>\n",
       "    <tr>\n",
       "      <th>member_id</th>\n",
       "      <th></th>\n",
       "      <th></th>\n",
       "      <th></th>\n",
       "      <th></th>\n",
       "      <th></th>\n",
       "      <th></th>\n",
       "      <th></th>\n",
       "      <th></th>\n",
       "      <th></th>\n",
       "      <th></th>\n",
       "      <th></th>\n",
       "      <th></th>\n",
       "      <th></th>\n",
       "      <th></th>\n",
       "      <th></th>\n",
       "      <th></th>\n",
       "      <th></th>\n",
       "      <th></th>\n",
       "      <th></th>\n",
       "      <th></th>\n",
       "      <th></th>\n",
       "    </tr>\n",
       "  </thead>\n",
       "  <tbody>\n",
       "    <tr>\n",
       "      <th>159387072</th>\n",
       "      <td>0.0</td>\n",
       "      <td>1.0</td>\n",
       "      <td>0.0</td>\n",
       "      <td>0.0</td>\n",
       "      <td>0.0</td>\n",
       "      <td>0.0</td>\n",
       "      <td>0.0</td>\n",
       "      <td>0.0</td>\n",
       "      <td>0.0</td>\n",
       "      <td>0.0</td>\n",
       "      <td>...</td>\n",
       "      <td>0.0</td>\n",
       "      <td>0.0</td>\n",
       "      <td>0.0</td>\n",
       "      <td>0.0</td>\n",
       "      <td>0.0</td>\n",
       "      <td>1.0</td>\n",
       "      <td>0.0</td>\n",
       "      <td>0.0</td>\n",
       "      <td>0.0</td>\n",
       "      <td>0.0</td>\n",
       "    </tr>\n",
       "  </tbody>\n",
       "</table>\n",
       "<p>1 rows × 32 columns</p>\n",
       "</div>"
      ],
      "text/plain": [
       "category_id   1    2    3    4    5    6    8    9    10   11  ...   26   27  \\\n",
       "member_id                                                      ...             \n",
       "159387072    0.0  1.0  0.0  0.0  0.0  0.0  0.0  0.0  0.0  0.0  ...  0.0  0.0   \n",
       "\n",
       "category_id   28   29   30   31   32   33   34   36  \n",
       "member_id                                            \n",
       "159387072    0.0  0.0  0.0  1.0  0.0  0.0  0.0  0.0  \n",
       "\n",
       "[1 rows x 32 columns]"
      ]
     },
     "execution_count": 111,
     "metadata": {},
     "output_type": "execute_result"
    }
   ],
   "source": [
    "t_user_val"
   ]
  },
  {
   "cell_type": "code",
   "execution_count": 121,
   "metadata": {},
   "outputs": [],
   "source": [
    "\n",
    "lis_t = t_user_val.loc[159387072].to_list()"
   ]
  },
  {
   "cell_type": "code",
   "execution_count": 122,
   "metadata": {},
   "outputs": [
    {
     "data": {
      "text/plain": [
       "[0.0,\n",
       " 1.0,\n",
       " 0.0,\n",
       " 0.0,\n",
       " 0.0,\n",
       " 0.0,\n",
       " 0.0,\n",
       " 0.0,\n",
       " 0.0,\n",
       " 0.0,\n",
       " 0.0,\n",
       " 0.0,\n",
       " 0.0,\n",
       " 0.0,\n",
       " 0.0,\n",
       " 0.0,\n",
       " 0.0,\n",
       " 0.0,\n",
       " 0.0,\n",
       " 0.0,\n",
       " 0.0,\n",
       " 0.0,\n",
       " 0.0,\n",
       " 0.0,\n",
       " 0.0,\n",
       " 0.0,\n",
       " 0.0,\n",
       " 1.0,\n",
       " 0.0,\n",
       " 0.0,\n",
       " 0.0,\n",
       " 0.0]"
      ]
     },
     "execution_count": 122,
     "metadata": {},
     "output_type": "execute_result"
    }
   ],
   "source": [
    "lis_t"
   ]
  },
  {
   "cell_type": "code",
   "execution_count": null,
   "metadata": {},
   "outputs": [],
   "source": []
  }
 ],
 "metadata": {
  "kernelspec": {
   "display_name": "Python 3",
   "language": "python",
   "name": "python3"
  },
  "language_info": {
   "codemirror_mode": {
    "name": "ipython",
    "version": 3
   },
   "file_extension": ".py",
   "mimetype": "text/x-python",
   "name": "python",
   "nbconvert_exporter": "python",
   "pygments_lexer": "ipython3",
   "version": "3.7.3"
  }
 },
 "nbformat": 4,
 "nbformat_minor": 2
}
