{
 "cells": [
  {
   "cell_type": "code",
   "execution_count": 37,
   "metadata": {},
   "outputs": [],
   "source": [
    "import pandas as pd\n",
    "import numpy as np"
   ]
  },
  {
   "cell_type": "code",
   "execution_count": 38,
   "metadata": {},
   "outputs": [],
   "source": [
    "member_list = [232768376, 184733438, 182508463, 14514615, 22982331]"
   ]
  },
  {
   "cell_type": "code",
   "execution_count": 39,
   "metadata": {},
   "outputs": [],
   "source": [
    "for i in range(0,len(member_list)):\n",
    "    user = str(member_list[i])\n",
    "    file1 = \"all_data_\"+user+\".csv\"\n",
    "    file2 = \"result_\"+user+\".csv\"\n",
    "    data_read = pd.read_csv(file1)\n",
    "    data_read.drop(data_read.columns[[0]], axis = 1, inplace = True) \n",
    "    group_list = data_read['group_id'].to_list()\n",
    "    group_list = set (group_list)\n",
    "    group_list = list (group_list)\n",
    "    group_data = pd.read_csv(\"groups.csv\", encoding=\"Latin-1\")\n",
    "    filter_g = group_data['group_id'].isin(group_list)\n",
    "    group_data.where(filter_g,inplace=True)\n",
    "    group_data = group_data.dropna()\n",
    "    group_data = group_data[['group_id','group_name','description','members']]\n",
    "    json_name = \"./data_json/\"+user+\"_new_joined_groups.csv\"\n",
    "#     group_data.to_json(json_name)\n",
    "    group_data.to_csv(json_name)\n",
    "    data_featured = pd.read_csv(file2)\n",
    "    data_featured.drop(data_featured.columns[[0]], axis = 1, inplace = True) \n",
    "    data_featured.columns = [float(x) for x in data_featured.columns]\n",
    "    groups_info = data_featured.columns\n",
    "    groups_info = list (groups_info)\n",
    "    group_data_featured = pd.read_csv(\"groups.csv\", encoding=\"Latin-1\")\n",
    "    filter_g2 = group_data_featured['group_id'].isin(groups_info)\n",
    "    group_data_featured.where(filter_g2,inplace=True)\n",
    "    group_data_featured = group_data_featured.dropna()\n",
    "    group_data_featured = group_data_featured[['group_id','group_name','description','members']]\n",
    "    json_name2 = \"./data_json/\"+user+\"_new_featured_groups.csv\"\n",
    "#     group_data_featured.to_json(json_name2)\n",
    "    group_data_featured.to_csv(json_name2)"
   ]
  },
  {
   "cell_type": "code",
   "execution_count": null,
   "metadata": {},
   "outputs": [],
   "source": []
  }
 ],
 "metadata": {
  "kernelspec": {
   "display_name": "Python 3",
   "language": "python",
   "name": "python3"
  },
  "language_info": {
   "codemirror_mode": {
    "name": "ipython",
    "version": 3
   },
   "file_extension": ".py",
   "mimetype": "text/x-python",
   "name": "python",
   "nbconvert_exporter": "python",
   "pygments_lexer": "ipython3",
   "version": "3.7.3"
  }
 },
 "nbformat": 4,
 "nbformat_minor": 2
}
